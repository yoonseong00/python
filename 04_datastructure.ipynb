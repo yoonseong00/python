{
 "cells": [
  {
   "cell_type": "code",
   "execution_count": 1,
   "id": "b9f30014-64e2-4b9c-908e-19135e5c08d3",
   "metadata": {},
   "outputs": [
    {
     "name": "stdout",
     "output_type": "stream",
     "text": [
      "hello\n"
     ]
    }
   ],
   "source": [
    "print(\"hello\")"
   ]
  },
  {
   "cell_type": "code",
   "execution_count": 3,
   "id": "66cdf63f-d419-4e6c-94a7-d7afcd8b3660",
   "metadata": {},
   "outputs": [
    {
     "data": {
      "text/plain": [
       "'일이삼'"
      ]
     },
     "execution_count": 3,
     "metadata": {},
     "output_type": "execute_result"
    }
   ],
   "source": [
    "''.join(['일', '이', '삼']) # 앞에있는 친구의 세부적 개념"
   ]
  },
  {
   "cell_type": "code",
   "execution_count": 6,
   "id": "df8db0e3-85dc-4596-bb1e-cf1479b6fd1f",
   "metadata": {},
   "outputs": [
    {
     "data": {
      "text/plain": [
       "['__add__',\n",
       " '__class__',\n",
       " '__contains__',\n",
       " '__delattr__',\n",
       " '__dir__',\n",
       " '__doc__',\n",
       " '__eq__',\n",
       " '__format__',\n",
       " '__ge__',\n",
       " '__getattribute__',\n",
       " '__getitem__',\n",
       " '__getnewargs__',\n",
       " '__getstate__',\n",
       " '__gt__',\n",
       " '__hash__',\n",
       " '__init__',\n",
       " '__init_subclass__',\n",
       " '__iter__',\n",
       " '__le__',\n",
       " '__len__',\n",
       " '__lt__',\n",
       " '__mod__',\n",
       " '__mul__',\n",
       " '__ne__',\n",
       " '__new__',\n",
       " '__reduce__',\n",
       " '__reduce_ex__',\n",
       " '__repr__',\n",
       " '__rmod__',\n",
       " '__rmul__',\n",
       " '__setattr__',\n",
       " '__sizeof__',\n",
       " '__str__',\n",
       " '__subclasshook__',\n",
       " 'capitalize',\n",
       " 'casefold',\n",
       " 'center',\n",
       " 'count',\n",
       " 'encode',\n",
       " 'endswith',\n",
       " 'expandtabs',\n",
       " 'find',\n",
       " 'format',\n",
       " 'format_map',\n",
       " 'index',\n",
       " 'isalnum',\n",
       " 'isalpha',\n",
       " 'isascii',\n",
       " 'isdecimal',\n",
       " 'isdigit',\n",
       " 'isidentifier',\n",
       " 'islower',\n",
       " 'isnumeric',\n",
       " 'isprintable',\n",
       " 'isspace',\n",
       " 'istitle',\n",
       " 'isupper',\n",
       " 'join',\n",
       " 'ljust',\n",
       " 'lower',\n",
       " 'lstrip',\n",
       " 'maketrans',\n",
       " 'partition',\n",
       " 'removeprefix',\n",
       " 'removesuffix',\n",
       " 'replace',\n",
       " 'rfind',\n",
       " 'rindex',\n",
       " 'rjust',\n",
       " 'rpartition',\n",
       " 'rsplit',\n",
       " 'rstrip',\n",
       " 'split',\n",
       " 'splitlines',\n",
       " 'startswith',\n",
       " 'strip',\n",
       " 'swapcase',\n",
       " 'title',\n",
       " 'translate',\n",
       " 'upper',\n",
       " 'zfill']"
      ]
     },
     "execution_count": 6,
     "metadata": {},
     "output_type": "execute_result"
    }
   ],
   "source": [
    "dir('hello') "
   ]
  },
  {
   "cell_type": "markdown",
   "id": "ce6737ea-043d-4903-b3de-a1363c53c7f4",
   "metadata": {},
   "source": [
    "# 문자열 메소드"
   ]
  },
  {
   "cell_type": "code",
   "execution_count": 7,
   "id": "d1ee2a05-a08f-4f78-a845-480aed33d0b7",
   "metadata": {},
   "outputs": [],
   "source": [
    "a = 'hello my name is yoonseong'"
   ]
  },
  {
   "cell_type": "code",
   "execution_count": 8,
   "id": "df3830c3-b222-4b2a-a569-4e257937bd50",
   "metadata": {},
   "outputs": [
    {
     "name": "stdout",
     "output_type": "stream",
     "text": [
      "hello my name is yoonseong\n"
     ]
    }
   ],
   "source": [
    "print(a)"
   ]
  },
  {
   "cell_type": "code",
   "execution_count": 9,
   "id": "c3f6b441-3f68-4be8-b160-22e9db0267d7",
   "metadata": {},
   "outputs": [
    {
     "name": "stdout",
     "output_type": "stream",
     "text": [
      "h\n"
     ]
    }
   ],
   "source": [
    "print(a[0])"
   ]
  },
  {
   "cell_type": "code",
   "execution_count": 10,
   "id": "24b4ef70-79c8-4865-94ec-e9a33065a804",
   "metadata": {},
   "outputs": [
    {
     "ename": "TypeError",
     "evalue": "'str' object does not support item assignment",
     "output_type": "error",
     "traceback": [
      "\u001b[1;31m---------------------------------------------------------------------------\u001b[0m",
      "\u001b[1;31mTypeError\u001b[0m                                 Traceback (most recent call last)",
      "Cell \u001b[1;32mIn[10], line 1\u001b[0m\n\u001b[1;32m----> 1\u001b[0m \u001b[43ma\u001b[49m\u001b[43m[\u001b[49m\u001b[38;5;241;43m0\u001b[39;49m\u001b[43m]\u001b[49m \u001b[38;5;241m=\u001b[39m \u001b[38;5;124m'\u001b[39m\u001b[38;5;124mH\u001b[39m\u001b[38;5;124m'\u001b[39m\n",
      "\u001b[1;31mTypeError\u001b[0m: 'str' object does not support item assignment"
     ]
    }
   ],
   "source": [
    "a[0] = 'H'"
   ]
  },
  {
   "cell_type": "markdown",
   "id": "aebfa30d-0ac0-4351-aeb1-0b99578313f0",
   "metadata": {},
   "source": [
    "- string(문자열)의 원리 덮어쓰기는 되는데 수정은 안된다 imumutable하다."
   ]
  },
  {
   "cell_type": "code",
   "execution_count": 13,
   "id": "7a82ed0d-7b04-4238-a8f4-4fd07f5594ac",
   "metadata": {},
   "outputs": [
    {
     "name": "stdout",
     "output_type": "stream",
     "text": [
      "hello my name is yoonseong\n"
     ]
    }
   ],
   "source": [
    "a.capitalize() #method는 리턴값을 가지는데 이때 a값은 유지된다.\n",
    "print(a)"
   ]
  },
  {
   "cell_type": "code",
   "execution_count": 14,
   "id": "da574150-894d-4d36-a7dc-79cecd161ca8",
   "metadata": {},
   "outputs": [
    {
     "name": "stdout",
     "output_type": "stream",
     "text": [
      "Hello my name is yoonseong\n"
     ]
    }
   ],
   "source": [
    "a = a.capitalize()\n",
    "print(a)"
   ]
  },
  {
   "cell_type": "code",
   "execution_count": 15,
   "id": "d3178af6-02cf-49b2-afd9-b8f6ad6a8a22",
   "metadata": {},
   "outputs": [
    {
     "data": {
      "text/plain": [
       "'Hello My Name Is Yoonseong'"
      ]
     },
     "execution_count": 15,
     "metadata": {},
     "output_type": "execute_result"
    }
   ],
   "source": [
    "a.title()"
   ]
  },
  {
   "cell_type": "code",
   "execution_count": 16,
   "id": "67a0da09-214e-40a6-80f7-6979146780dd",
   "metadata": {},
   "outputs": [
    {
     "data": {
      "text/plain": [
       "'HELLO MY NAME IS YOONSEONG'"
      ]
     },
     "execution_count": 16,
     "metadata": {},
     "output_type": "execute_result"
    }
   ],
   "source": [
    "a.upper()"
   ]
  },
  {
   "cell_type": "code",
   "execution_count": 17,
   "id": "77be690d-5bc0-4788-9d7f-dce5ad82b399",
   "metadata": {},
   "outputs": [
    {
     "data": {
      "text/plain": [
       "'hello my name is yoonseong'"
      ]
     },
     "execution_count": 17,
     "metadata": {},
     "output_type": "execute_result"
    }
   ],
   "source": [
    "a.lower()"
   ]
  },
  {
   "cell_type": "code",
   "execution_count": 18,
   "id": "5fd2a224-c17b-429e-b31f-c8d19befa114",
   "metadata": {},
   "outputs": [
    {
     "name": "stdout",
     "output_type": "stream",
     "text": [
      "Hello my name is yoonseong\n"
     ]
    }
   ],
   "source": [
    "print(a)"
   ]
  },
  {
   "cell_type": "code",
   "execution_count": 23,
   "id": "517e114b-0e6d-4185-b86a-58a17c7bf474",
   "metadata": {},
   "outputs": [
    {
     "data": {
      "text/plain": [
       "'hi??my??name'"
      ]
     },
     "execution_count": 23,
     "metadata": {},
     "output_type": "execute_result"
    }
   ],
   "source": [
    "my_list = ['hi', 'my', 'name']\n",
    "'??'.join(my_list)"
   ]
  },
  {
   "cell_type": "code",
   "execution_count": 30,
   "id": "c920b345-165a-4d6e-9bcc-9bbf5f322689",
   "metadata": {},
   "outputs": [
    {
     "name": "stdout",
     "output_type": "stream",
     "text": [
      "                    hello\n",
      "       \n",
      "hello\n",
      "ello\n",
      "ellohihihihihihihi\n",
      "hihihihihihihello\n"
     ]
    }
   ],
   "source": [
    "### .strip([chars]) 대괄호는 넣어도 되고 안넣어도 된다.\n",
    "\n",
    "my_string='                    hello\\n       '\n",
    "print(my_string)\n",
    "print(my_string.strip())\n",
    "\n",
    "my_string2 = 'hihihihihihihellohihihihihihihi'\n",
    "print(my_string2.strip('hi'))\n",
    "print(my_string2.lstrip('hi'))\n",
    "print(my_string2.rstrip('hi'))"
   ]
  },
  {
   "cell_type": "code",
   "execution_count": 34,
   "id": "5a61be11-3d04-4474-86d5-fab9a4b4bde3",
   "metadata": {},
   "outputs": [
    {
     "data": {
      "text/plain": [
       "'w!!!oow'"
      ]
     },
     "execution_count": 34,
     "metadata": {},
     "output_type": "execute_result"
    }
   ],
   "source": [
    "# .replace(old, new[, count]) 찾아바꾸기 기능\n",
    "a = 'wooooow'\n",
    "a.replace('o', '!', 3)"
   ]
  },
  {
   "cell_type": "code",
   "execution_count": 42,
   "id": "03f080ee-148d-4d21-b4c5-8ec459fa15a7",
   "metadata": {},
   "outputs": [
    {
     "name": "stdout",
     "output_type": "stream",
     "text": [
      "1\n",
      "-1\n",
      "1\n"
     ]
    }
   ],
   "source": [
    "# .find(x) 찾는게 없으면 -1 반환\n",
    "a = 'apple'\n",
    "print(a.find('p'))\n",
    "print(a.find('z'))\n",
    "\n",
    "\n",
    "# 아래 코드가 find의 기능을 구현한 것\n",
    "# for i in range(len(a)):\n",
    "#     if 'p' == a[i]:\n",
    "#         print(i)\n",
    "#         break\n",
    "#     else:\n",
    "#         print(-1)"
   ]
  },
  {
   "cell_type": "code",
   "execution_count": 43,
   "id": "78fca78d-9d06-4b4b-8515-1ccde2007799",
   "metadata": {},
   "outputs": [
    {
     "name": "stdout",
     "output_type": "stream",
     "text": [
      "0\n"
     ]
    }
   ],
   "source": [
    "# .index(x) 찾는게 없으면 실행 오류\n",
    "a = 'apple'\n",
    "print(a.index('a'))"
   ]
  },
  {
   "cell_type": "code",
   "execution_count": 45,
   "id": "16e375be-45d6-4d76-9f23-3cb3c1eb8928",
   "metadata": {},
   "outputs": [
    {
     "data": {
      "text/plain": [
       "['my', 'name', 'is']"
      ]
     },
     "execution_count": 45,
     "metadata": {},
     "output_type": "execute_result"
    }
   ],
   "source": [
    "# .split(x) x값이 없으면 공백을 기준으로 데이터를 자르고 기준이 있으면 기준에 따라 데이터를 자름\n",
    "a= 'my_name_is'\n",
    "a.split('_')"
   ]
  },
  {
   "cell_type": "code",
   "execution_count": 47,
   "id": "64ae72b3-9fec-405f-bdb9-4c62c2daf619",
   "metadata": {},
   "outputs": [
    {
     "data": {
      "text/plain": [
       "9"
      ]
     },
     "execution_count": 47,
     "metadata": {},
     "output_type": "execute_result"
    }
   ],
   "source": [
    "# .count(x)\n",
    "'wooooooooow'.count('o')"
   ]
  },
  {
   "cell_type": "markdown",
   "id": "998bc4af-6e63-45db-a0c9-eb88e269b70b",
   "metadata": {},
   "source": [
    "# 리스트 메소드"
   ]
  },
  {
   "cell_type": "code",
   "execution_count": 62,
   "id": "9e9c0c84-5564-42c6-9538-d8dc4fa54747",
   "metadata": {},
   "outputs": [
    {
     "name": "stdout",
     "output_type": "stream",
     "text": [
      "[1, 5, 2, 4, 6, 1, 3]\n"
     ]
    }
   ],
   "source": [
    "# . append(x) \n",
    "numbers = [1, 5, 2, 4, 6, 1]\n",
    "numbers.append(3)\n",
    "print(numbers)"
   ]
  },
  {
   "cell_type": "code",
   "execution_count": 56,
   "id": "3a9591a4-2f57-4565-b4ac-31800922ffbf",
   "metadata": {},
   "outputs": [
    {
     "name": "stdout",
     "output_type": "stream",
     "text": [
      "[1, 5, 2, 4, 6, 1, 3, 99, 100, 99, 100]\n",
      "[1, 5, 2, 4, 6, 1, 3, 99, 100, 99, 100, 99, 100]\n"
     ]
    }
   ],
   "source": [
    "# .extend(iterable)\n",
    "a = [99, 100]\n",
    "\n",
    "numbers.extend(a)\n",
    "print(numbers)\n",
    "print(numbers + a)"
   ]
  },
  {
   "cell_type": "code",
   "execution_count": 57,
   "id": "1b5f41d0-18d2-4987-9df1-1412b016ba20",
   "metadata": {},
   "outputs": [
    {
     "name": "stdout",
     "output_type": "stream",
     "text": [
      "[1, 5, 2, 3.5, 4, 6, 1, 3, 99, 100, 99, 100]\n"
     ]
    }
   ],
   "source": [
    "# .insert(idx, x)\n",
    "numbers.insert(3, 3.5)\n",
    "print(numbers)"
   ]
  },
  {
   "cell_type": "code",
   "execution_count": 58,
   "id": "ff297130-0aa7-4d28-a314-6170eaf06228",
   "metadata": {},
   "outputs": [
    {
     "name": "stdout",
     "output_type": "stream",
     "text": [
      "[1, 5, 2, 4, 6, 1, 3, 99, 100, 99, 100]\n"
     ]
    }
   ],
   "source": [
    "# .remove(x) x 값이 데이터에 없으면 오류 발생\n",
    "numbers.remove(3.5)\n",
    "print(numbers)"
   ]
  },
  {
   "cell_type": "code",
   "execution_count": 61,
   "id": "d175eace-002a-4b50-b621-2898cb1a4c8e",
   "metadata": {},
   "outputs": [
    {
     "name": "stdout",
     "output_type": "stream",
     "text": [
      "[1, 5, 2, 4, 6, 1, 3, 99]\n",
      "[5, 2, 4, 6, 1, 3, 99]\n"
     ]
    }
   ],
   "source": [
    "# .pop() 아무것도 안넣으면 맨 뒤 데이터 하나를 삭제, 삭제한 데이터는 리턴을 하여 내가 지운 값에 대한 확인을 할 수 있다.\n",
    "numbers.pop()\n",
    "print(numbers)\n",
    "\n",
    "numbers.pop(0)\n",
    "print(numbers)"
   ]
  },
  {
   "cell_type": "code",
   "execution_count": 65,
   "id": "afa3c918-60a1-494a-86bb-440dc96ca894",
   "metadata": {},
   "outputs": [
    {
     "name": "stdout",
     "output_type": "stream",
     "text": [
      "[1, 1, 2, 3, 4, 5, 6]\n",
      "[1, 1, 2, 3, 4, 5, 6]\n",
      "[6, 5, 4, 3, 2, 1, 1]\n"
     ]
    }
   ],
   "source": [
    "# .sort()\n",
    "print(numbers)\n",
    "\n",
    "numbers.sort()\n",
    "print(numbers)\n",
    "numbers.sort(reverse=True)\n",
    "print(numbers)"
   ]
  },
  {
   "cell_type": "code",
   "execution_count": 68,
   "id": "3e1333cd-5889-4d1f-958e-3a1257065c50",
   "metadata": {},
   "outputs": [
    {
     "name": "stdout",
     "output_type": "stream",
     "text": [
      "[1, 1, 2, 4, 5, 6]\n",
      "[1, 5, 2, 4, 6, 1]\n"
     ]
    }
   ],
   "source": [
    "numbers = [1, 5, 2, 4, 6, 1]\n",
    "print(sorted(numbers))\n",
    "print(numbers)"
   ]
  },
  {
   "cell_type": "code",
   "execution_count": 72,
   "id": "b28d826c-693c-4e07-b3ec-3ac893d10879",
   "metadata": {},
   "outputs": [
    {
     "name": "stdout",
     "output_type": "stream",
     "text": [
      "[1, 5, 2, 4, 6, 1]\n",
      "[1, 6, 4, 2, 5, 1]\n",
      "[1, 5, 2, 4, 6, 1]\n"
     ]
    }
   ],
   "source": [
    "# .reverse()\n",
    "numbers = [1, 5, 2, 4, 6, 1]\n",
    "print(numbers)\n",
    "numbers.reverse()\n",
    "print(numbers)\n",
    "numbers = numbers[: : -1]\n",
    "print(numbers)"
   ]
  },
  {
   "cell_type": "markdown",
   "id": "464af476-ff65-4281-bec5-50b9b67738ad",
   "metadata": {},
   "source": [
    "##  list copy"
   ]
  },
  {
   "cell_type": "code",
   "execution_count": 73,
   "id": "b0e03b88-85d1-493b-9c55-bffd3992c07d",
   "metadata": {},
   "outputs": [],
   "source": [
    "origin_list = [1, 2, 3]\n",
    "copy_list = origin_list"
   ]
  },
  {
   "cell_type": "code",
   "execution_count": 74,
   "id": "4e756557-a975-462d-b25f-e2a1704f91f3",
   "metadata": {},
   "outputs": [
    {
     "name": "stdout",
     "output_type": "stream",
     "text": [
      "[1, 2, 3]\n",
      "[1, 2, 3]\n"
     ]
    }
   ],
   "source": [
    "print(origin_list)\n",
    "print(copy_list)"
   ]
  },
  {
   "cell_type": "code",
   "execution_count": 75,
   "id": "21634625-9185-44d3-85bb-07f49ee2aa72",
   "metadata": {},
   "outputs": [],
   "source": [
    "copy_list[0] = 100"
   ]
  },
  {
   "cell_type": "code",
   "execution_count": 76,
   "id": "892bd47c-bc56-46ee-88bb-11d72b23d4ff",
   "metadata": {},
   "outputs": [
    {
     "name": "stdout",
     "output_type": "stream",
     "text": [
      "[100, 2, 3]\n",
      "[100, 2, 3]\n"
     ]
    }
   ],
   "source": [
    "print(origin_list)\n",
    "print(copy_list)"
   ]
  },
  {
   "cell_type": "code",
   "execution_count": 78,
   "id": "3eb3a569-af84-42b7-a103-6db084a667e4",
   "metadata": {},
   "outputs": [
    {
     "name": "stdout",
     "output_type": "stream",
     "text": [
      "[1, 2, 3]\n",
      "[100, 2, 3]\n"
     ]
    }
   ],
   "source": [
    "a = [1, 2, 3]\n",
    "# b = list(a)\n",
    "b = a[:]\n",
    "\n",
    "b[0] = 100\n",
    "print(a)\n",
    "print(b)"
   ]
  },
  {
   "cell_type": "code",
   "execution_count": 79,
   "id": "64fe83da-10dd-4ea6-a972-61134c93d1c5",
   "metadata": {},
   "outputs": [
    {
     "name": "stdout",
     "output_type": "stream",
     "text": [
      "[1, 2, [99, 1000]]\n",
      "[1, 2, [99, 1000]]\n"
     ]
    }
   ],
   "source": [
    "a = [1, 2, [99, 100]]\n",
    "b=a[:]\n",
    "# b = list(a)\n",
    "\n",
    "b[2][1] = 1000\n",
    "print(a)\n",
    "print(b)"
   ]
  },
  {
   "cell_type": "code",
   "execution_count": 80,
   "id": "7c0ceb5a-20c7-41cc-a71e-690902a20d08",
   "metadata": {},
   "outputs": [
    {
     "name": "stdout",
     "output_type": "stream",
     "text": [
      "[1, 2, [99, 100]]\n",
      "[1, 2, [99, 1000]]\n"
     ]
    }
   ],
   "source": [
    "import copy #리스트 안에 또 리스트가 있을 때 원본 데이터를 남기고  copy를 할 때 사용\n",
    "a = [1, 2, [99, 100]]\n",
    "b = copy.deepcopy(a)\n",
    "\n",
    "b[2][1] = 1000\n",
    "print(a)\n",
    "print(b)"
   ]
  },
  {
   "cell_type": "markdown",
   "id": "48f001ff-7a22-4c42-8de0-1e98c804a393",
   "metadata": {},
   "source": [
    "## list comprehension"
   ]
  },
  {
   "cell_type": "code",
   "execution_count": 82,
   "id": "a5d0569f-f8fe-4e2c-a1cd-95546cf2e357",
   "metadata": {},
   "outputs": [
    {
     "name": "stdout",
     "output_type": "stream",
     "text": [
      "[1, 2, 3, 4, 5, 6, 7, 8, 9, 10]\n"
     ]
    }
   ],
   "source": [
    "numbers = list(range(1, 11))\n",
    "print(numbers)"
   ]
  },
  {
   "cell_type": "code",
   "execution_count": 84,
   "id": "bc330731-ae89-4624-85c2-44f3b982fa6a",
   "metadata": {},
   "outputs": [
    {
     "name": "stdout",
     "output_type": "stream",
     "text": [
      "[1, 8, 27, 64, 125, 216, 343, 512, 729, 1000]\n"
     ]
    }
   ],
   "source": [
    "# 세제곱 만들기\n",
    "result = []\n",
    "\n",
    "for number in numbers:\n",
    "    result.append(number**3)\n",
    "\n",
    "print(result)"
   ]
  },
  {
   "cell_type": "code",
   "execution_count": 85,
   "id": "e597b52d-a2c1-43c1-b986-a14f8a84ea99",
   "metadata": {},
   "outputs": [
    {
     "name": "stdout",
     "output_type": "stream",
     "text": [
      "[1, 8, 27, 64, 125, 216, 343, 512, 729, 1000]\n"
     ]
    }
   ],
   "source": [
    "result2 = [number**3 for number in numbers]\n",
    "print(result2)"
   ]
  },
  {
   "cell_type": "code",
   "execution_count": 86,
   "id": "bba183cb-f962-481c-b005-bd5abeffd9cb",
   "metadata": {},
   "outputs": [
    {
     "name": "stdout",
     "output_type": "stream",
     "text": [
      "[2, 4, 6, 8, 10]\n"
     ]
    }
   ],
   "source": [
    "# 짝수만 고르기\n",
    "even_list = []\n",
    "\n",
    "for i in numbers:\n",
    "    if i % 2 == 0:\n",
    "        even_list.append(i)\n",
    "\n",
    "print(even_list)"
   ]
  },
  {
   "cell_type": "code",
   "execution_count": 92,
   "id": "e6ab529d-69d5-4136-8047-43d4cb9bee0f",
   "metadata": {},
   "outputs": [
    {
     "name": "stdout",
     "output_type": "stream",
     "text": [
      "[2, 4, 6, 8, 10]\n"
     ]
    }
   ],
   "source": [
    "even_list2 = [i for i in numbers if i % 2 == 0]\n",
    "print(even_list2)"
   ]
  },
  {
   "cell_type": "code",
   "execution_count": 102,
   "id": "7a50b501-8a59-45f7-81ee-4a5951990c86",
   "metadata": {},
   "outputs": [
    {
     "name": "stdout",
     "output_type": "stream",
     "text": [
      "['m', 'y', ' ', 'n', 'm', ' ', 's', ' ', 'h', 'n', 'g']\n",
      "my nm s hng\n"
     ]
    }
   ],
   "source": [
    "# for문\n",
    "words = 'my name is hong'\n",
    "vowels = 'aeiou'\n",
    "\n",
    "# => my nm s hng\n",
    "\n",
    "name = []\n",
    "for i in words:\n",
    "    if i in vowels:\n",
    "        continue\n",
    "    else:\n",
    "        name.append(i)\n",
    "\n",
    "print(name)\n",
    "print(''.join(name))"
   ]
  },
  {
   "cell_type": "code",
   "execution_count": 106,
   "id": "d7130f76-4d29-4f8e-ae1f-e5d27f2f20f4",
   "metadata": {},
   "outputs": [
    {
     "name": "stdout",
     "output_type": "stream",
     "text": [
      "['m', 'y', ' ', 'n', 'm', ' ', 's', ' ', 'h', 'n', 'g']\n",
      "my nm s hng\n"
     ]
    }
   ],
   "source": [
    "#2. list comprehension\n",
    "name = [name for name in words if name not in vowels]\n",
    "print(name)\n",
    "print(''.join(name))"
   ]
  },
  {
   "cell_type": "markdown",
   "id": "80be83a3-7a9c-4cad-abf7-823fde68bfc1",
   "metadata": {},
   "source": [
    "# 딕셔너리 메소드"
   ]
  },
  {
   "cell_type": "code",
   "execution_count": 133,
   "id": "2021e8e3-a69f-4ef6-94c4-904ed3cfee5a",
   "metadata": {},
   "outputs": [],
   "source": [
    "info = {\n",
    "    'name': 'yoonsoeng',\n",
    "    'location': 'Incheon',\n",
    "}"
   ]
  },
  {
   "cell_type": "code",
   "execution_count": 124,
   "id": "f83df197-60c1-4f81-b5c3-88c7a90b5ada",
   "metadata": {},
   "outputs": [
    {
     "name": "stdout",
     "output_type": "stream",
     "text": [
      "{'name': 'kim', 'location': 'Incheon'}\n"
     ]
    }
   ],
   "source": [
    "info['name'] = 'kim'\n",
    "print(info)"
   ]
  },
  {
   "cell_type": "code",
   "execution_count": 134,
   "id": "1149ee3f-745e-4850-96e9-3ee23a947531",
   "metadata": {},
   "outputs": [
    {
     "name": "stdout",
     "output_type": "stream",
     "text": [
      "{'name': 'yoonsoeng', 'location': 'Incheon'}\n",
      "yoonsoeng\n",
      "None\n",
      "{'location': 'Incheon'}\n"
     ]
    }
   ],
   "source": [
    "# .pop()(key[, default])\n",
    "print(info)\n",
    "print(info.pop('name'))\n",
    "\n",
    "print(info.pop('name', None))\n",
    "print(info)"
   ]
  },
  {
   "cell_type": "code",
   "execution_count": 135,
   "id": "5cf9a878-6ef7-484e-807d-4010bc750289",
   "metadata": {},
   "outputs": [
    {
     "name": "stdout",
     "output_type": "stream",
     "text": [
      "{'location': 'Incheon', 'name': 'park'}\n"
     ]
    }
   ],
   "source": [
    "# .update()\n",
    "info.update(name='park')\n",
    "print(info)"
   ]
  },
  {
   "cell_type": "code",
   "execution_count": 138,
   "id": "a66a20b3-4c77-426a-be71-e21a4d2c219f",
   "metadata": {},
   "outputs": [
    {
     "name": "stdout",
     "output_type": "stream",
     "text": [
      "park\n",
      "None\n",
      "해당 키가 없습니다.\n"
     ]
    }
   ],
   "source": [
    "# .get(key, default)\n",
    "print(info.get('name'))\n",
    "print(info.get('phone')) #True False 처리 할거면 get 에러 처리할거면 info='key'\n",
    "print(info.get('phone', '해당 키가 없습니다.'))"
   ]
  },
  {
   "cell_type": "markdown",
   "id": "11fdeb06-2f1e-4401-8d82-60b42a2bde38",
   "metadata": {},
   "source": [
    "## dict comprehension"
   ]
  },
  {
   "cell_type": "code",
   "execution_count": 141,
   "id": "2cb94846-567f-45e9-bf05-dc2266572c88",
   "metadata": {},
   "outputs": [
    {
     "name": "stdout",
     "output_type": "stream",
     "text": [
      "{1: 1, 2: 8, 3: 27, 4: 64, 5: 125, 6: 216, 7: 343, 8: 512, 9: 729, 10: 1000}\n"
     ]
    }
   ],
   "source": [
    "# for\n",
    "# {1: 1, 2: 8 ...}\n",
    "result = {}\n",
    "\n",
    "numbers = range(1,11)\n",
    "for number in numbers:\n",
    "    result[number] = number**3\n",
    "\n",
    "print(result)"
   ]
  },
  {
   "cell_type": "code",
   "execution_count": 143,
   "id": "c7f8d41b-891c-40c8-a983-1775c4d3d12a",
   "metadata": {},
   "outputs": [
    {
     "name": "stdout",
     "output_type": "stream",
     "text": [
      "{1: 1, 2: 8, 3: 27, 4: 64, 5: 125, 6: 216, 7: 343, 8: 512, 9: 729, 10: 1000}\n"
     ]
    }
   ],
   "source": [
    "# comp\n",
    "result2 = {number : number**3 for number in range(1, 11)}\n",
    "print(result2)"
   ]
  },
  {
   "cell_type": "code",
   "execution_count": 170,
   "id": "f38371c2-9906-40ae-aa10-3162f6cb31bb",
   "metadata": {},
   "outputs": [
    {
     "name": "stdout",
     "output_type": "stream",
     "text": [
      "{'서울': 100, '부산': 50, '광주': 80}\n",
      "{'서울': 100, '부산': 50, '광주': 80}\n"
     ]
    }
   ],
   "source": [
    "# 1. for문\n",
    "dust = {\n",
    "    '서울': 100,\n",
    "    '대구': 30,\n",
    "    '부산': 50,\n",
    "    '광주': 80,\n",
    "    '제주': 20,\n",
    "}\n",
    "# result = {value가 50 이상인 값만 추출}\n",
    "\n",
    "result = {}\n",
    "\n",
    "for key , value in dust.items():\n",
    "    if value >= 50:\n",
    "        result[key] = value\n",
    "\n",
    "print(result)"
   ]
  },
  {
   "cell_type": "code",
   "execution_count": 168,
   "id": "adc87126-0a1b-4cce-97fd-86ddfb040359",
   "metadata": {},
   "outputs": [
    {
     "name": "stdout",
     "output_type": "stream",
     "text": [
      "{'서울': 100, '부산': 50, '광주': 80}\n"
     ]
    }
   ],
   "source": [
    "# 2.comp\n",
    "result2 = {k : v for k, v in dust.items() if v>=50}\n",
    "print(result2)"
   ]
  },
  {
   "cell_type": "code",
   "execution_count": 169,
   "id": "9731d3a3-67bc-43ec-9cb9-0651370adf27",
   "metadata": {},
   "outputs": [
    {
     "name": "stdout",
     "output_type": "stream",
     "text": [
      "{'서울': '나쁨', '부산': '나쁨', '광주': '나쁨'}\n"
     ]
    }
   ],
   "source": [
    "result2 = {k : '나쁨' for k, v in dust.items() if v>=50}\n",
    "print(result2)"
   ]
  },
  {
   "cell_type": "markdown",
   "id": "201978ff-49d8-4690-a941-53a7c417629d",
   "metadata": {},
   "source": [
    "# 세트 메소드"
   ]
  },
  {
   "cell_type": "code",
   "execution_count": 178,
   "id": "3ccf0743-6807-4c29-9667-52d1d61a1ce9",
   "metadata": {},
   "outputs": [],
   "source": [
    "fruits = {'apple', 'banana', 'melon'}"
   ]
  },
  {
   "cell_type": "code",
   "execution_count": 179,
   "id": "a61ea798-42bd-4c05-bb51-d4f778e2687c",
   "metadata": {},
   "outputs": [
    {
     "name": "stdout",
     "output_type": "stream",
     "text": [
      "{'melon', 'banana', 'apple', 'watermelon'}\n",
      "{'melon', 'banana', 'apple', 'watermelon'}\n"
     ]
    }
   ],
   "source": [
    "# .add(x)\n",
    "fruits.add('watermelon')\n",
    "print(fruits)\n",
    "fruits.add('watermelon') #하나의 데이터가 중복될 수 없다.\n",
    "print(fruits)"
   ]
  },
  {
   "cell_type": "code",
   "execution_count": 180,
   "id": "91de2c7f-d3cd-46a4-b355-551725c214c0",
   "metadata": {},
   "outputs": [
    {
     "name": "stdout",
     "output_type": "stream",
     "text": [
      "{'grape', 'banana', 'apple', 'watermelon', 'oragne', 'melon'}\n"
     ]
    }
   ],
   "source": [
    "# .update(set)\n",
    "# fruits.update('grape')\n",
    "# print(fruits)\n",
    "fruits.update({'grape'}, {'oragne'})\n",
    "print(fruits)"
   ]
  },
  {
   "cell_type": "code",
   "execution_count": 181,
   "id": "c174ddb7-0121-4cb4-be8c-b869c2016e63",
   "metadata": {},
   "outputs": [
    {
     "name": "stdout",
     "output_type": "stream",
     "text": [
      "{'grape', 'banana', 'apple', 'watermelon', 'melon'}\n"
     ]
    }
   ],
   "source": [
    "# .remove(x)\n",
    "fruits.remove('oragne')\n",
    "print(fruits)"
   ]
  },
  {
   "cell_type": "code",
   "execution_count": 183,
   "id": "d7f380f7-6260-4e45-a16e-bfee75c27533",
   "metadata": {},
   "outputs": [
    {
     "name": "stdout",
     "output_type": "stream",
     "text": [
      "{'apple', 'watermelon', 'melon'}\n"
     ]
    }
   ],
   "source": [
    "# .pop()\n",
    "fruits.pop()\n",
    "print(fruits)"
   ]
  },
  {
   "cell_type": "markdown",
   "id": "ed16de55-d51d-4c2b-9fdf-1fc0e7accbe8",
   "metadata": {},
   "source": [
    "### map, filter, zip"
   ]
  },
  {
   "cell_type": "code",
   "execution_count": 189,
   "id": "b540eac5-e62e-4635-b682-96bf7799eeb3",
   "metadata": {},
   "outputs": [
    {
     "name": "stdout",
     "output_type": "stream",
     "text": [
      "['1', '2', '3']\n",
      "<map object at 0x000001EBF13F4370>\n"
     ]
    }
   ],
   "source": [
    "a = [1, 2, 3]\n",
    "number_str = map(str, a)\n",
    "print(list(number_str))\n",
    "print(number_str)"
   ]
  },
  {
   "cell_type": "code",
   "execution_count": 191,
   "id": "58c3f9a1-b798-41d4-96ea-21c889f84c12",
   "metadata": {},
   "outputs": [
    {
     "name": "stdout",
     "output_type": "stream",
     "text": [
      "125\n",
      "1000\n"
     ]
    }
   ],
   "source": [
    "def cube(x):\n",
    "    return x**3\n",
    "\n",
    "print(cube(5))\n",
    "print(cube(10))"
   ]
  },
  {
   "cell_type": "code",
   "execution_count": 192,
   "id": "67a13442-17a4-4f62-b842-3d0c984d9f08",
   "metadata": {},
   "outputs": [
    {
     "name": "stdout",
     "output_type": "stream",
     "text": [
      "[1, 8, 27]\n"
     ]
    }
   ],
   "source": [
    "result = []\n",
    "\n",
    "for i in a:\n",
    "    result.append(i**3)\n",
    "\n",
    "print(result)"
   ]
  },
  {
   "cell_type": "code",
   "execution_count": 194,
   "id": "77f9f8cd-e0f6-4bd4-9ff6-fe8b876ecc24",
   "metadata": {},
   "outputs": [
    {
     "name": "stdout",
     "output_type": "stream",
     "text": [
      "[1, 8, 27]\n"
     ]
    }
   ],
   "source": [
    "result2 = map(cube, a) #함수도 객체처럼 f에 넣을 수 있다. iterable한 a를 cube라는 함수를 통과한 값을 리턴한 것이다.\n",
    "print(list(result2))"
   ]
  },
  {
   "cell_type": "markdown",
   "id": "9906659a-cddd-428c-ba51-6ffd15043391",
   "metadata": {},
   "source": [
    "- filter(function, iterable)\n",
    "   - filter에 들어가는 function은 T/F를 반환해야 한다."
   ]
  },
  {
   "cell_type": "code",
   "execution_count": 200,
   "id": "7fa21fa8-4b97-4baf-8ac3-83106f3f564e",
   "metadata": {},
   "outputs": [
    {
     "name": "stdout",
     "output_type": "stream",
     "text": [
      "True\n",
      "False\n"
     ]
    }
   ],
   "source": [
    "def is_odd(x):\n",
    "    if x % 2 == 1:\n",
    "        return True\n",
    "    else:\n",
    "        return False\n",
    "\n",
    "print(is_odd(5))\n",
    "print(is_odd(10))"
   ]
  },
  {
   "cell_type": "code",
   "execution_count": 201,
   "id": "e4aac8b3-f765-4e98-9728-ee11f61fc73d",
   "metadata": {},
   "outputs": [
    {
     "name": "stdout",
     "output_type": "stream",
     "text": [
      "True\n",
      "False\n"
     ]
    }
   ],
   "source": [
    "def is_odd(x):\n",
    "   return bool(x % 2)\n",
    "\n",
    "print(is_odd(5))\n",
    "print(is_odd(10))"
   ]
  },
  {
   "cell_type": "code",
   "execution_count": 197,
   "id": "79a21532-fcf7-4957-908f-c8df3e5f6d74",
   "metadata": {},
   "outputs": [],
   "source": [
    "numbers = [1, 2, 3, 4, 5]"
   ]
  },
  {
   "cell_type": "code",
   "execution_count": 198,
   "id": "72b4eca1-ffcb-4eeb-86fb-7d048991b8af",
   "metadata": {},
   "outputs": [
    {
     "name": "stdout",
     "output_type": "stream",
     "text": [
      "[1, 3, 5]\n"
     ]
    }
   ],
   "source": [
    "# for\n",
    "result = []\n",
    "for number in numbers:\n",
    "    if is_odd(number):\n",
    "        result.append(number)\n",
    "\n",
    "print(result)"
   ]
  },
  {
   "cell_type": "code",
   "execution_count": 199,
   "id": "51a0d3aa-b47f-44d2-972e-5a00bc4f368e",
   "metadata": {},
   "outputs": [
    {
     "name": "stdout",
     "output_type": "stream",
     "text": [
      "[1, 3, 5]\n"
     ]
    }
   ],
   "source": [
    "# filter\n",
    "result2 = filter(is_odd, numbers)\n",
    "print(list(result2))"
   ]
  },
  {
   "cell_type": "code",
   "execution_count": 202,
   "id": "d71655f8-4734-4409-a1a5-d38fba62a361",
   "metadata": {},
   "outputs": [],
   "source": [
    "a = [1, 2, 3]\n",
    "b= [100, 200, 300]"
   ]
  },
  {
   "cell_type": "code",
   "execution_count": 203,
   "id": "b74c3f2b-e829-4e56-900b-bf71614c3e8e",
   "metadata": {},
   "outputs": [
    {
     "name": "stdout",
     "output_type": "stream",
     "text": [
      "<zip object at 0x000001EBF0EE98C0>\n",
      "[(1, 100), (2, 200), (3, 300)]\n"
     ]
    }
   ],
   "source": [
    "result = zip(a, b) #각 순서에 맞는 인자를 tuple에 묶고 전체를 list에 묶는다.(**무조건 갯수가 다르면 작은 쪽에 맞춰서 실행. )\n",
    "print(result)\n",
    "print(list(result))"
   ]
  },
  {
   "cell_type": "code",
   "execution_count": null,
   "id": "bb023c78-331c-4f5f-88c3-5718874b9744",
   "metadata": {},
   "outputs": [],
   "source": []
  }
 ],
 "metadata": {
  "kernelspec": {
   "display_name": "Python 3 (ipykernel)",
   "language": "python",
   "name": "python3"
  },
  "language_info": {
   "codemirror_mode": {
    "name": "ipython",
    "version": 3
   },
   "file_extension": ".py",
   "mimetype": "text/x-python",
   "name": "python",
   "nbconvert_exporter": "python",
   "pygments_lexer": "ipython3",
   "version": "3.11.5"
  }
 },
 "nbformat": 4,
 "nbformat_minor": 5
}
