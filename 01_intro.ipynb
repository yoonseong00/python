{
 "cells": [
  {
   "cell_type": "markdown",
   "id": "dbad53e7-4684-4357-bf0d-508d93fc398b",
   "metadata": {},
   "source": [
    "# 01.intro"
   ]
  },
  {
   "cell_type": "markdown",
   "id": "0abd5ee5-a28d-459b-9a42-e16a91208551",
   "metadata": {},
   "source": [
    "## 단축키\n",
    "\n",
    "- ctrl + enter : 지금 셀 실행\n",
    "- shift + enter : 지금 셀 실행 & 아래로 이동\n",
    "- alt + enter : 지금 셀 실행 & 아래에 새로운 셀 추가"
   ]
  },
  {
   "cell_type": "code",
   "execution_count": null,
   "id": "6c801b19-86e9-4019-918a-8c87d92a10d5",
   "metadata": {},
   "outputs": [],
   "source": [
    "# 주석을 달거면 #을 앞에 넣으면 된다."
   ]
  },
  {
   "cell_type": "markdown",
   "id": "81886a2c-848e-45cf-abbe-50ea30ea7c81",
   "metadata": {},
   "source": [
    "## 1. 변수\n",
    "\n",
    "변수 이름 `=` 값 (값을 변수 이름에 저장 시킨다.)\n",
    "\n",
    "- 변수 이름은 어떤 이름이든 상관 없음.\n",
    "- 영어,숫자,`_`를 이용하여 선언\n",
    "- 키워드는 사용 불가"
   ]
  },
  {
   "cell_type": "code",
   "execution_count": null,
   "id": "ea3a34f7-c290-4c84-a5e4-f24dac0995bc",
   "metadata": {},
   "outputs": [],
   "source": [
    "a = 10"
   ]
  },
  {
   "cell_type": "code",
   "execution_count": null,
   "id": "05b41499-7e5b-4208-a774-784aa6e5ae85",
   "metadata": {},
   "outputs": [],
   "source": [
    "a"
   ]
  },
  {
   "cell_type": "code",
   "execution_count": null,
   "id": "8879ba2a-3521-47b3-9c94-49e84c6e4191",
   "metadata": {},
   "outputs": [],
   "source": [
    "# 코드 순서가 꼬였을 땐 위에 kernel에서 위에서 3번째 누르면 된다."
   ]
  },
  {
   "cell_type": "code",
   "execution_count": null,
   "id": "69a9f192-24fd-49c7-9f6e-78d583e9a6e8",
   "metadata": {},
   "outputs": [],
   "source": [
    "import keyword\n",
    "keyword.kwlist"
   ]
  },
  {
   "cell_type": "markdown",
   "id": "cdc4af84-a058-48f2-a28f-eda781cf78fb",
   "metadata": {},
   "source": [
    "## 1.1 number"
   ]
  },
  {
   "cell_type": "code",
   "execution_count": null,
   "id": "60fa7086-fb89-4ed4-984c-d129cf5cb54d",
   "metadata": {},
   "outputs": [],
   "source": [
    "a = 1"
   ]
  },
  {
   "cell_type": "code",
   "execution_count": null,
   "id": "d4586c0d-bfbe-47a2-81db-1bdf4af731e9",
   "metadata": {},
   "outputs": [],
   "source": [
    "a"
   ]
  },
  {
   "cell_type": "code",
   "execution_count": null,
   "id": "9889ea37-aaaa-4e3c-afec-179b2a729378",
   "metadata": {},
   "outputs": [],
   "source": [
    "type(a)"
   ]
  },
  {
   "cell_type": "code",
   "execution_count": null,
   "id": "d5b4020b-9eb6-4377-90aa-cb3b37e9aa28",
   "metadata": {},
   "outputs": [],
   "source": [
    "b = 1.2"
   ]
  },
  {
   "cell_type": "code",
   "execution_count": null,
   "id": "197dfb97-e489-4645-9904-c30982e5a88d",
   "metadata": {},
   "outputs": [],
   "source": [
    "type(b)"
   ]
  },
  {
   "cell_type": "code",
   "execution_count": null,
   "id": "cafd735c-3678-473c-8574-0c15bb7d9a23",
   "metadata": {},
   "outputs": [],
   "source": [
    "c = 1-4j"
   ]
  },
  {
   "cell_type": "code",
   "execution_count": null,
   "id": "da0724c2-cb5d-4eaa-8901-53549af2af91",
   "metadata": {},
   "outputs": [],
   "source": [
    "type(c)"
   ]
  },
  {
   "cell_type": "code",
   "execution_count": null,
   "id": "8ea5f94a-fd68-4d3c-b644-e0fef8cc960e",
   "metadata": {},
   "outputs": [],
   "source": [
    "c.imag"
   ]
  },
  {
   "cell_type": "code",
   "execution_count": null,
   "id": "b7402b34-8945-4a71-a052-0e7d22dd9dfa",
   "metadata": {},
   "outputs": [],
   "source": [
    "c.real"
   ]
  },
  {
   "cell_type": "markdown",
   "id": "246e03b8-5b45-4271-9f9c-594d7e872f2a",
   "metadata": {},
   "source": [
    "### 1.2 Boolean\n",
    "`True`, `False`로 이루어진 타입"
   ]
  },
  {
   "cell_type": "code",
   "execution_count": null,
   "id": "17701416-bf7c-4fad-aa56-a34a6d12551a",
   "metadata": {},
   "outputs": [],
   "source": [
    "a = True "
   ]
  },
  {
   "cell_type": "code",
   "execution_count": null,
   "id": "ea56b425-5ecc-4e45-b937-e7a2a8c8c87f",
   "metadata": {},
   "outputs": [],
   "source": [
    "type(a)"
   ]
  },
  {
   "cell_type": "markdown",
   "id": "eff299ac-e80c-47a2-95ec-cabec2b4d16c",
   "metadata": {},
   "source": [
    "- 조건을 걸 때, bool 타입을 사용 ex. 맞으면 `True`출력"
   ]
  },
  {
   "cell_type": "markdown",
   "id": "25c38b12-fd0b-495c-a974-c4d6a2f095c9",
   "metadata": {},
   "source": [
    "### 1.3 None\n",
    "데이터가 없음을 의미"
   ]
  },
  {
   "cell_type": "code",
   "execution_count": null,
   "id": "62f3dcc0-ed70-460a-ab68-ca1c094d35d0",
   "metadata": {},
   "outputs": [],
   "source": [
    "b = None"
   ]
  },
  {
   "cell_type": "code",
   "execution_count": null,
   "id": "0191eb11-f8a1-439f-8926-5b496ff9086e",
   "metadata": {},
   "outputs": [],
   "source": [
    "type(b)"
   ]
  },
  {
   "cell_type": "markdown",
   "id": "b17a6d5e-e849-4401-ab44-57e70bffb9e7",
   "metadata": {},
   "source": [
    "### 1.4 String\n",
    "- 문자열은 `'`, `\"`를 이용하여 표현"
   ]
  },
  {
   "cell_type": "code",
   "execution_count": null,
   "id": "d58058fe-3e74-466b-803d-0e61a1a8350e",
   "metadata": {},
   "outputs": [],
   "source": [
    "a = 'hello'"
   ]
  },
  {
   "cell_type": "code",
   "execution_count": null,
   "id": "5efce66d-301a-40c4-b8f2-7e3bb5ce6fb7",
   "metadata": {},
   "outputs": [],
   "source": [
    "type(a)"
   ]
  },
  {
   "cell_type": "code",
   "execution_count": null,
   "id": "38141df2-804a-4512-ac57-7b1b45981c02",
   "metadata": {},
   "outputs": [],
   "source": [
    "b = \"world\""
   ]
  },
  {
   "cell_type": "code",
   "execution_count": null,
   "id": "26acad5d-2a47-4e5c-bd6c-daff5c45307c",
   "metadata": {},
   "outputs": [],
   "source": [
    "type(b)"
   ]
  },
  {
   "cell_type": "markdown",
   "id": "e8a01a46-a948-4571-91dd-64181a432b13",
   "metadata": {},
   "source": [
    "- 동작에는 상관없지만 문자열을 `'` or `\"` 둘 중 하나를 통일성 있게 사용해야함"
   ]
  },
  {
   "cell_type": "code",
   "execution_count": null,
   "id": "92ddc4b9-5d69-46bd-9938-0e35ac8ecfd3",
   "metadata": {},
   "outputs": [],
   "source": [
    "age = input()"
   ]
  },
  {
   "cell_type": "code",
   "execution_count": null,
   "id": "a73edf50-9761-4723-8840-9e2e419cae5a",
   "metadata": {},
   "outputs": [],
   "source": [
    "age"
   ]
  },
  {
   "cell_type": "code",
   "execution_count": null,
   "id": "e40d1ca1-f488-4353-9441-facf90fe5e3d",
   "metadata": {},
   "outputs": [],
   "source": [
    "type(age)"
   ]
  },
  {
   "cell_type": "markdown",
   "id": "5008d100-b476-4697-af80-4b8335d86b37",
   "metadata": {},
   "source": [
    "- `input`으로 받아온 데이터는 `문자열`이다."
   ]
  },
  {
   "cell_type": "code",
   "execution_count": null,
   "id": "4c5316f7-a2c3-44ad-b4ec-2700374a6628",
   "metadata": {},
   "outputs": [],
   "source": [
    "print('안녕하세요. 사람입니다.')"
   ]
  },
  {
   "cell_type": "code",
   "execution_count": null,
   "id": "7217ac43-3def-4cf6-92cf-610b5b430874",
   "metadata": {},
   "outputs": [],
   "source": [
    "print(\"안녕하세요. '사람'입니다.\")"
   ]
  },
  {
   "cell_type": "code",
   "execution_count": null,
   "id": "7e94c0fc-24e4-4342-ba23-cd7f5bc2a7cc",
   "metadata": {},
   "outputs": [],
   "source": [
    "print(' 안녕하세요. \\'사람\\'입니다')"
   ]
  },
  {
   "cell_type": "code",
   "execution_count": null,
   "id": "b56280c0-0346-4b1b-8007-558bfb68fa85",
   "metadata": {},
   "outputs": [],
   "source": [
    "a = '''\n",
    "여기는 \\n문자열입니다.\n",
    "여러\\t줄을 작성 할 수 있지요.\n",
    "'''"
   ]
  },
  {
   "cell_type": "code",
   "execution_count": null,
   "id": "f4b240ce-1b68-494a-a978-a99abe0d4a16",
   "metadata": {},
   "outputs": [],
   "source": [
    "a"
   ]
  },
  {
   "cell_type": "code",
   "execution_count": null,
   "id": "bc9c7512-b419-4e01-81b0-ca02a358d308",
   "metadata": {},
   "outputs": [],
   "source": [
    "print(a)"
   ]
  },
  {
   "cell_type": "markdown",
   "id": "d085754b-3fba-4403-a866-27ecd23cce04",
   "metadata": {},
   "source": [
    "- `\\n`은 다음 줄로 내리기\n",
    "- `\\t`은 tap"
   ]
  },
  {
   "cell_type": "markdown",
   "id": "00b354e3-767c-4b44-a994-7347f4cf886b",
   "metadata": {},
   "source": [
    "### string interpolation\n",
    "\n",
    "- %-fomatting\n",
    "- str.format()\n",
    "- f-string"
   ]
  },
  {
   "cell_type": "code",
   "execution_count": null,
   "id": "f51a6d43-d2cd-4c6d-9d7e-3d7834e6877f",
   "metadata": {},
   "outputs": [],
   "source": [
    "age = 10"
   ]
  },
  {
   "cell_type": "code",
   "execution_count": null,
   "id": "8bea7d58-bd1d-4d45-b647-0d1e5017436a",
   "metadata": {},
   "outputs": [],
   "source": [
    "print('홍길동은 %s살이다.' % age)"
   ]
  },
  {
   "cell_type": "code",
   "execution_count": null,
   "id": "f4e725c0-7291-4aec-b2f5-3418788fcbb3",
   "metadata": {},
   "outputs": [],
   "source": [
    "print('홍길동은 {}살입니다.' .format(age))"
   ]
  },
  {
   "cell_type": "code",
   "execution_count": null,
   "id": "7c0f79e5-d42c-4edc-b5b0-7cc9e81b2cc9",
   "metadata": {},
   "outputs": [],
   "source": [
    "print(f'홍길동은 {age}살입니다.')"
   ]
  },
  {
   "cell_type": "markdown",
   "id": "38317776-240d-4266-86ee-b805c5d0f07e",
   "metadata": {},
   "source": [
    "# 2.연산자\n",
    "\n",
    "## 2.1 산술연산자\n",
    "  "
   ]
  },
  {
   "cell_type": "code",
   "execution_count": null,
   "id": "2b58139f-7b79-4d53-a578-20fa5b9441cd",
   "metadata": {},
   "outputs": [],
   "source": [
    "a = 2\n",
    "b = 3"
   ]
  },
  {
   "cell_type": "code",
   "execution_count": null,
   "id": "b4404f60-e487-47b3-ada8-f3cf1b15d634",
   "metadata": {},
   "outputs": [],
   "source": [
    "print(a+b)\n",
    "print(a-b)\n",
    "print(a*b)\n",
    "print(a/b)"
   ]
  },
  {
   "cell_type": "code",
   "execution_count": null,
   "id": "a66c3011-c10e-4e41-81e6-f3efce96c1ac",
   "metadata": {},
   "outputs": [],
   "source": [
    "a+b"
   ]
  },
  {
   "cell_type": "code",
   "execution_count": null,
   "id": "43505026-317d-4c53-beee-e63f9d68b24b",
   "metadata": {},
   "outputs": [],
   "source": [
    "#나눈 몫\n",
    "print(a//b)\n",
    "# 나눈 나머지\n",
    "print(a%b)\n",
    "\n",
    "#mod (X,y)라 할 때, x=나눈 몫 y=나눈 나머지\n",
    "print(divmod(a,b))"
   ]
  },
  {
   "cell_type": "markdown",
   "id": "7d7459d9-1bf7-4a93-8ad1-62938592036a",
   "metadata": {},
   "source": [
    "### 2.2 비교연산자"
   ]
  },
  {
   "cell_type": "code",
   "execution_count": null,
   "id": "ce44c733-d4ab-4f77-9997-a9eea5a401d6",
   "metadata": {},
   "outputs": [],
   "source": [
    "a = 5\n",
    "b = 10"
   ]
  },
  {
   "cell_type": "code",
   "execution_count": null,
   "id": "b5cf4ba3-f03f-40a5-a3e5-ab72d9adae75",
   "metadata": {},
   "outputs": [],
   "source": [
    "print(a>b)\n",
    "print(a<b)\n",
    "print(a>=b)\n",
    "print(a<=b)"
   ]
  },
  {
   "cell_type": "code",
   "execution_count": null,
   "id": "81f40c1f-d03c-4bfc-a0c0-c2eee865dcf6",
   "metadata": {},
   "outputs": [],
   "source": [
    "print(a==b)\n",
    "print(a!=b)"
   ]
  },
  {
   "cell_type": "code",
   "execution_count": null,
   "id": "7cec9fae-1d06-48be-9206-b7ff3d31209a",
   "metadata": {},
   "outputs": [],
   "source": [
    "print('hi'=='hi')\n",
    "print('Hi'=='hi')"
   ]
  },
  {
   "cell_type": "markdown",
   "id": "0107d065-d040-4807-918a-0d932995897d",
   "metadata": {},
   "source": [
    "### 2.3 논리연산자\n",
    "- `and`: `양쪽 모두가` True일때, True 반환\n",
    "- `or`: 둘 중 `하나라도` True이면,  True 반환"
   ]
  },
  {
   "cell_type": "code",
   "execution_count": null,
   "id": "b19f6b9e-4fb4-4be7-87da-b865a6e868c4",
   "metadata": {},
   "outputs": [],
   "source": [
    "print(True and True)\n",
    "print(True and False)\n",
    "print(False and True)\n",
    "print(False and False)"
   ]
  },
  {
   "cell_type": "code",
   "execution_count": null,
   "id": "3ca8fa3d-4149-49e5-95fd-4b04aaec5272",
   "metadata": {},
   "outputs": [],
   "source": [
    "print(True or True)\n",
    "print(True or False)\n",
    "print(False or True)\n",
    "print(False or False)"
   ]
  },
  {
   "cell_type": "code",
   "execution_count": null,
   "id": "5596748e-c4a3-4ec2-acc2-2aee53ee1461",
   "metadata": {},
   "outputs": [],
   "source": [
    "print(not True)\n",
    "\n",
    "a=True\n",
    "print(not a)"
   ]
  },
  {
   "cell_type": "code",
   "execution_count": null,
   "id": "0630c4f7-bac1-4c4f-bc42-e4a9ffb402e0",
   "metadata": {},
   "outputs": [],
   "source": [
    "#단축평가(and)\n",
    "print(3 and 5)\n",
    "print(3 and 0)\n",
    "print(0 and 5)\n",
    "print(0 and 0)"
   ]
  },
  {
   "cell_type": "code",
   "execution_count": null,
   "id": "373b30b7-f7db-4e58-82a4-532912d3727f",
   "metadata": {},
   "outputs": [],
   "source": [
    "#단축평가(or)\n",
    "print(3 or 5)\n",
    "print(3 or 0)\n",
    "print(0 or 5)\n",
    "print(0 or 0)"
   ]
  },
  {
   "cell_type": "markdown",
   "id": "f2e6fcfc-303f-4bd9-93d2-3859f7c97e3f",
   "metadata": {},
   "source": [
    "### 2.4 복합연산자"
   ]
  },
  {
   "cell_type": "code",
   "execution_count": 7,
   "id": "b94e911c-67d2-4b83-8989-1b42104e2fd7",
   "metadata": {},
   "outputs": [],
   "source": [
    "a = 2\n",
    "b = 3"
   ]
  },
  {
   "cell_type": "code",
   "execution_count": 8,
   "id": "1a52f58e-18bd-44e1-9966-f2caef84d3ee",
   "metadata": {},
   "outputs": [],
   "source": [
    "a = a + b\n",
    "a = a - b\n",
    "a = a * b\n",
    "a = a / b\n",
    "a = a // b\n",
    "a = a % b\n",
    "a = a ** b"
   ]
  },
  {
   "cell_type": "code",
   "execution_count": 9,
   "id": "8bd4cec1-c535-4e40-a854-6b5c9d2c9495",
   "metadata": {},
   "outputs": [
    {
     "data": {
      "text/plain": [
       "0.0"
      ]
     },
     "execution_count": 9,
     "metadata": {},
     "output_type": "execute_result"
    }
   ],
   "source": [
    "a"
   ]
  },
  {
   "cell_type": "code",
   "execution_count": 10,
   "id": "1af5f286-4ecf-4ec5-870c-6f51a9a27c53",
   "metadata": {},
   "outputs": [
    {
     "name": "stdout",
     "output_type": "stream",
     "text": [
      "0.0\n"
     ]
    }
   ],
   "source": [
    "a += b\n",
    "a -= b\n",
    "a *= b\n",
    "a /= b\n",
    "a //= b\n",
    "a %= b\n",
    "a **= b\n",
    "print(a)"
   ]
  },
  {
   "cell_type": "markdown",
   "id": "a88077ab-43fc-4891-8cc2-5be89aaf7c96",
   "metadata": {},
   "source": [
    "### 2.5 기타연산자"
   ]
  },
  {
   "cell_type": "code",
   "execution_count": 11,
   "id": "55bd6d82-d98a-4504-9c53-e5b527a2305d",
   "metadata": {},
   "outputs": [],
   "source": [
    "a = 'hi'\n",
    "b = 'hello'"
   ]
  },
  {
   "cell_type": "code",
   "execution_count": 13,
   "id": "e6b286ce-ace6-4a79-b8d6-736599bc34d1",
   "metadata": {},
   "outputs": [
    {
     "data": {
      "text/plain": [
       "'hihello'"
      ]
     },
     "execution_count": 13,
     "metadata": {},
     "output_type": "execute_result"
    }
   ],
   "source": [
    "# concatenation\n",
    "a + b"
   ]
  },
  {
   "cell_type": "code",
   "execution_count": 15,
   "id": "d5dd6c7f-0385-4dd2-8399-ce7dcf86d8ad",
   "metadata": {},
   "outputs": [],
   "source": [
    "a = [1, 2, 3]\n",
    "b = [9, 8, 7]"
   ]
  },
  {
   "cell_type": "code",
   "execution_count": 16,
   "id": "1dcdaf34-8c4f-4093-8bf3-4ca811b4acdd",
   "metadata": {},
   "outputs": [
    {
     "data": {
      "text/plain": [
       "[1, 2, 3, 9, 8, 7]"
      ]
     },
     "execution_count": 16,
     "metadata": {},
     "output_type": "execute_result"
    }
   ],
   "source": [
    "a+b"
   ]
  },
  {
   "cell_type": "markdown",
   "id": "48989e82-0ec1-42a6-8a4f-10c6c8f6e7e4",
   "metadata": {},
   "source": [
    "- 에러가 났을 땐 보통 더해야 하는 두 연산자의 타입이 다른 경우다\n",
    "  "
   ]
  },
  {
   "cell_type": "code",
   "execution_count": 19,
   "id": "7d956319-f39a-4ba1-986e-4e65a88afe12",
   "metadata": {},
   "outputs": [
    {
     "name": "stdout",
     "output_type": "stream",
     "text": [
      "True\n",
      "False\n"
     ]
    }
   ],
   "source": [
    "# containmnet\n",
    "print('a' in 'apple')\n",
    "print('z' in 'apple')"
   ]
  },
  {
   "cell_type": "code",
   "execution_count": 20,
   "id": "9f8a9ae5-40c3-4a2e-9890-8142e0f54ae7",
   "metadata": {},
   "outputs": [
    {
     "name": "stdout",
     "output_type": "stream",
     "text": [
      "True\n",
      "False\n"
     ]
    }
   ],
   "source": [
    "print(1 in [1,2,3])\n",
    "print(100 in [1,2,3])"
   ]
  },
  {
   "cell_type": "code",
   "execution_count": 21,
   "id": "0cebd6d4-8509-4365-a766-ad10ea3c4d41",
   "metadata": {},
   "outputs": [
    {
     "name": "stdout",
     "output_type": "stream",
     "text": [
      "False\n"
     ]
    }
   ],
   "source": [
    "a = 123123\n",
    "b = 123123\n",
    "print(a is b)"
   ]
  },
  {
   "cell_type": "code",
   "execution_count": 22,
   "id": "3ce7e246-dc1f-4c4d-ab81-6fc760d0d042",
   "metadata": {},
   "outputs": [
    {
     "name": "stdout",
     "output_type": "stream",
     "text": [
      "True\n"
     ]
    }
   ],
   "source": [
    "a = 10\n",
    "b = 10\n",
    "print(a is b)"
   ]
  },
  {
   "cell_type": "markdown",
   "id": "b2c2d217-d610-4312-aa4f-0c4d457b229f",
   "metadata": {},
   "source": [
    "- `is`는 값이 같다를 보여주는 것이 아닌 RAM 안에서 같은 공간에 있냐라는 것을 보여주는 것이다. ex)123123은 a와b의 메모리 주소가 달라 False가 출력\n",
    "- 파이썬은 자주 사용하는 것은 일정 영역을 할당하여(약 -5~256) 이 데이터는 같은 메모리 주소이므로 True가 출력"
   ]
  },
  {
   "cell_type": "markdown",
   "id": "61f36398-d1ec-4aff-baa7-86bb84c32071",
   "metadata": {},
   "source": [
    "#### 연산자 우선순위\n",
    "\n",
    "0. ()를 통해 그룹\n",
    "1. **\n",
    "2. 산술연산자(*, /)\n",
    "3. 산술연산자(+, -)\n",
    "4. 비교연산자, is, in\n",
    "5. not\n",
    "6. and, or"
   ]
  },
  {
   "cell_type": "code",
   "execution_count": 26,
   "id": "fb413edc-9365-4fa7-a4c5-448464b5569d",
   "metadata": {},
   "outputs": [
    {
     "name": "stdout",
     "output_type": "stream",
     "text": [
      "-81\n",
      "81\n"
     ]
    }
   ],
   "source": [
    "print(-3**4)\n",
    "print((-3)**4)"
   ]
  },
  {
   "cell_type": "markdown",
   "id": "060f5f9b-fecb-43f0-91ed-54600dd66282",
   "metadata": {},
   "source": [
    "# 3. 형변환\n",
    "\n",
    "### 3.1 암시적 형변환"
   ]
  },
  {
   "cell_type": "code",
   "execution_count": 38,
   "id": "e46c3252-2f9a-4bc0-89f9-467254612156",
   "metadata": {},
   "outputs": [],
   "source": [
    "a = True\n",
    "b = False\n",
    "c = 1"
   ]
  },
  {
   "cell_type": "code",
   "execution_count": 39,
   "id": "e875ae3c-effa-4449-882f-f5ae079dd36d",
   "metadata": {},
   "outputs": [
    {
     "name": "stdout",
     "output_type": "stream",
     "text": [
      "2\n",
      "1\n",
      "1\n"
     ]
    }
   ],
   "source": [
    "print(a + c)\n",
    "print(b + c)\n",
    "print(a + b)"
   ]
  },
  {
   "cell_type": "code",
   "execution_count": 40,
   "id": "e2ce8fb5-29ef-4284-88b1-6d5f11def314",
   "metadata": {},
   "outputs": [],
   "source": [
    "int_num = 3\n",
    "float_num = 3.3\n",
    "complex_num = 3 + 3j"
   ]
  },
  {
   "cell_type": "code",
   "execution_count": 41,
   "id": "ae233a9e-1212-46c7-b753-e712c6323e1c",
   "metadata": {},
   "outputs": [
    {
     "name": "stdout",
     "output_type": "stream",
     "text": [
      "6.3\n",
      "(6+3j)\n"
     ]
    }
   ],
   "source": [
    "print(int_num + float_num)\n",
    "print(int_num + complex_num)"
   ]
  },
  {
   "cell_type": "markdown",
   "id": "312fadac-0128-4c5d-b3ba-246dc6c5f16d",
   "metadata": {},
   "source": [
    "### 3.2 명시적 형변환"
   ]
  },
  {
   "cell_type": "code",
   "execution_count": 46,
   "id": "f46047a0-fecf-415a-8ed4-9644556c558b",
   "metadata": {},
   "outputs": [],
   "source": [
    "a = 1\n",
    "b = '번'"
   ]
  },
  {
   "cell_type": "code",
   "execution_count": 47,
   "id": "740e0e9d-51b7-4ff3-8c55-f93fe7e132cf",
   "metadata": {},
   "outputs": [
    {
     "ename": "TypeError",
     "evalue": "unsupported operand type(s) for +: 'int' and 'str'",
     "output_type": "error",
     "traceback": [
      "\u001b[1;31m---------------------------------------------------------------------------\u001b[0m",
      "\u001b[1;31mTypeError\u001b[0m                                 Traceback (most recent call last)",
      "Cell \u001b[1;32mIn[47], line 1\u001b[0m\n\u001b[1;32m----> 1\u001b[0m \u001b[43ma\u001b[49m\u001b[38;5;241;43m+\u001b[39;49m\u001b[43mb\u001b[49m\n",
      "\u001b[1;31mTypeError\u001b[0m: unsupported operand type(s) for +: 'int' and 'str'"
     ]
    }
   ],
   "source": [
    "a+b"
   ]
  },
  {
   "cell_type": "code",
   "execution_count": 48,
   "id": "142b6d2c-fc7f-410c-a6a7-38d4c9ec9b1f",
   "metadata": {},
   "outputs": [
    {
     "name": "stdout",
     "output_type": "stream",
     "text": [
      "1번\n"
     ]
    }
   ],
   "source": [
    "print(str(a)+b)"
   ]
  },
  {
   "cell_type": "code",
   "execution_count": 49,
   "id": "958b2abc-310c-4aae-8c9c-d1d30a71ed95",
   "metadata": {},
   "outputs": [],
   "source": [
    "a = '100'"
   ]
  },
  {
   "cell_type": "code",
   "execution_count": 51,
   "id": "9c66feb0-b3bf-4a48-8c61-9d3045f526f8",
   "metadata": {},
   "outputs": [
    {
     "name": "stdout",
     "output_type": "stream",
     "text": [
      "<class 'int'>\n"
     ]
    }
   ],
   "source": [
    "print(type(int(a)))"
   ]
  },
  {
   "cell_type": "code",
   "execution_count": 54,
   "id": "3d582190-b755-4561-b728-3ad66d9a6291",
   "metadata": {},
   "outputs": [
    {
     "name": "stdin",
     "output_type": "stream",
     "text": [
      " 123123\n"
     ]
    },
    {
     "name": "stdout",
     "output_type": "stream",
     "text": [
      "123123\n",
      "<class 'int'>\n"
     ]
    }
   ],
   "source": [
    "age = input()\n",
    "print(age)\n",
    "print(type(int(age)))"
   ]
  },
  {
   "cell_type": "code",
   "execution_count": 55,
   "id": "2608afd2-0959-4587-8767-bd9096b11d99",
   "metadata": {},
   "outputs": [],
   "source": [
    "a = '3.3'"
   ]
  },
  {
   "cell_type": "code",
   "execution_count": 61,
   "id": "ac230e75-2a59-42c9-bdaa-95bf38937061",
   "metadata": {},
   "outputs": [
    {
     "ename": "ValueError",
     "evalue": "invalid literal for int() with base 10: '3.3'",
     "output_type": "error",
     "traceback": [
      "\u001b[1;31m---------------------------------------------------------------------------\u001b[0m",
      "\u001b[1;31mValueError\u001b[0m                                Traceback (most recent call last)",
      "Cell \u001b[1;32mIn[61], line 1\u001b[0m\n\u001b[1;32m----> 1\u001b[0m \u001b[38;5;28mtype\u001b[39m(\u001b[38;5;28;43mint\u001b[39;49m\u001b[43m(\u001b[49m\u001b[43ma\u001b[49m\u001b[43m)\u001b[49m)\n",
      "\u001b[1;31mValueError\u001b[0m: invalid literal for int() with base 10: '3.3'"
     ]
    }
   ],
   "source": [
    "type(int(a))"
   ]
  },
  {
   "cell_type": "code",
   "execution_count": 62,
   "id": "932c67e7-6a13-46ab-b187-5ea5ab2c1232",
   "metadata": {},
   "outputs": [
    {
     "data": {
      "text/plain": [
       "float"
      ]
     },
     "execution_count": 62,
     "metadata": {},
     "output_type": "execute_result"
    }
   ],
   "source": [
    "type(float(a))"
   ]
  },
  {
   "cell_type": "code",
   "execution_count": 63,
   "id": "2ce2d09d-2e47-4287-a879-b5d42bc37984",
   "metadata": {},
   "outputs": [],
   "source": [
    "a = 1\n",
    "b = 0\n",
    "c = 100"
   ]
  },
  {
   "cell_type": "code",
   "execution_count": 66,
   "id": "b12ead0a-1cd1-4e0a-bdd9-2afca9add105",
   "metadata": {},
   "outputs": [
    {
     "name": "stdout",
     "output_type": "stream",
     "text": [
      "True\n",
      "False\n",
      "True\n"
     ]
    }
   ],
   "source": [
    "print(bool(a))\n",
    "print(bool(b))\n",
    "print(bool(c))"
   ]
  },
  {
   "cell_type": "code",
   "execution_count": 67,
   "id": "fe3637a8-efb4-49a0-b940-0f4e7801c60d",
   "metadata": {},
   "outputs": [
    {
     "name": "stdout",
     "output_type": "stream",
     "text": [
      "False\n",
      "True\n"
     ]
    }
   ],
   "source": [
    "print(bool(''))\n",
    "print(bool('a'))"
   ]
  },
  {
   "cell_type": "code",
   "execution_count": 68,
   "id": "86228e23-ff36-480f-a19a-bf8fc60333f3",
   "metadata": {},
   "outputs": [
    {
     "name": "stdout",
     "output_type": "stream",
     "text": [
      "False\n",
      "True\n"
     ]
    }
   ],
   "source": [
    "print(bool([]))\n",
    "print(bool([1,2,3]))"
   ]
  },
  {
   "cell_type": "markdown",
   "id": "a72b5a52-f803-44b7-b15a-39faf3143795",
   "metadata": {},
   "source": [
    "# 4. 시퀀스 자료형\n",
    "\n",
    "시퀀스는 데이터의 순서대로 나열된 자료구조. (순서대로 나열되어있다는 것은 정렬된것과는 다르다.)\n",
    "\n",
    "1. 리스트\n",
    "2. 튜플\n",
    "3. 레인지\n",
    "4. 문자열"
   ]
  },
  {
   "cell_type": "markdown",
   "id": "baecaeb9-93a8-48a0-b27d-8c6b89cffc5f",
   "metadata": {},
   "source": [
    "### 4.1 List(배열)\n",
    "- 선언: 변수이름 = [value1, value2, value3]\n",
    "- 접근 : 변수이름[index]"
   ]
  },
  {
   "cell_type": "code",
   "execution_count": 76,
   "id": "b5f386b0-d174-4fe5-ad66-8746a7a9ee1f",
   "metadata": {},
   "outputs": [
    {
     "name": "stdout",
     "output_type": "stream",
     "text": [
      "[]\n",
      "<class 'list'>\n"
     ]
    }
   ],
   "source": [
    "l = []\n",
    "print(l)\n",
    "print(type(l))"
   ]
  },
  {
   "cell_type": "code",
   "execution_count": 78,
   "id": "1623ddb5-d5cb-4bba-92e6-5537b366f7d9",
   "metadata": {},
   "outputs": [
    {
     "name": "stdout",
     "output_type": "stream",
     "text": [
      "['서울', '대전', '부산']\n",
      "<class 'list'>\n",
      "부산\n",
      "부산\n",
      "서울\n",
      "['서울', '대전', '제주']\n"
     ]
    }
   ],
   "source": [
    "location = ['서울', '대전', '부산']\n",
    "print(location)\n",
    "print(type(location))\n",
    "\n",
    "print(location[2])\n",
    "print(location[-1])\n",
    "print(location[-3])\n",
    "\n",
    "location[2] = '제주'\n",
    "print(location)"
   ]
  },
  {
   "cell_type": "markdown",
   "id": "88aeb860-a46a-458f-b453-c051cffc2e88",
   "metadata": {},
   "source": [
    "### 4.2 Tuple\n",
    "\n",
    "- 선언 : 변수이름 = (vlaue1, value2, value3)\n",
    "- 접근 : 변수이름[index]\n",
    "- List와 유사하지만 `수정불가능(immutalbe)`하다."
   ]
  },
  {
   "cell_type": "code",
   "execution_count": 81,
   "id": "cafbe8bb-708f-4610-8ba8-d5ff513b4420",
   "metadata": {},
   "outputs": [
    {
     "name": "stdout",
     "output_type": "stream",
     "text": [
      "(1, 2, 3)\n",
      "<class 'tuple'>\n",
      "3\n"
     ]
    }
   ],
   "source": [
    "t = (1, 2, 3)\n",
    "print(t)\n",
    "print(type(t))\n",
    "print(t[2])"
   ]
  },
  {
   "cell_type": "code",
   "execution_count": 83,
   "id": "59934ffc-91f9-4e9d-b69b-f66c66d4f173",
   "metadata": {},
   "outputs": [
    {
     "ename": "TypeError",
     "evalue": "'tuple' object does not support item assignment",
     "output_type": "error",
     "traceback": [
      "\u001b[1;31m---------------------------------------------------------------------------\u001b[0m",
      "\u001b[1;31mTypeError\u001b[0m                                 Traceback (most recent call last)",
      "Cell \u001b[1;32mIn[83], line 1\u001b[0m\n\u001b[1;32m----> 1\u001b[0m \u001b[43mt\u001b[49m\u001b[43m[\u001b[49m\u001b[38;5;241;43m2\u001b[39;49m\u001b[43m]\u001b[49m \u001b[38;5;241m=\u001b[39m \u001b[38;5;241m100\u001b[39m\n",
      "\u001b[1;31mTypeError\u001b[0m: 'tuple' object does not support item assignment"
     ]
    }
   ],
   "source": [
    "t[2] = 100"
   ]
  },
  {
   "cell_type": "code",
   "execution_count": 91,
   "id": "97b4ce5d-4482-4efa-9f6b-817fbdff09ac",
   "metadata": {},
   "outputs": [
    {
     "name": "stdout",
     "output_type": "stream",
     "text": [
      "<class 'tuple'>\n",
      "2\n"
     ]
    }
   ],
   "source": [
    "result = divmod(9, 4)\n",
    "print(type(result))\n",
    "print(result[0])"
   ]
  },
  {
   "cell_type": "code",
   "execution_count": 93,
   "id": "5c91256e-e07d-49a1-91af-11bcb7366a1b",
   "metadata": {},
   "outputs": [
    {
     "name": "stdout",
     "output_type": "stream",
     "text": [
      "1 2\n",
      "2 1\n"
     ]
    }
   ],
   "source": [
    "x, y = (1, 2)\n",
    "print(x, y)\n",
    "\n",
    "x, y = (y, x)\n",
    "print(x, y)"
   ]
  },
  {
   "cell_type": "markdown",
   "id": "63e25d53-72bd-48a0-899f-57c23dec5f85",
   "metadata": {},
   "source": [
    "### 4.3 range\n",
    "\n",
    "- range(n) : 0부터 n-1까지 범위\n",
    "- range(n, m) : n부터 m-1까지 범위\n",
    "- range(n, m, s) : n부터 m-1까지 범위, +s 만큼 증가하는 범위"
   ]
  },
  {
   "cell_type": "code",
   "execution_count": 95,
   "id": "b6963deb-8f5c-47e2-9e2e-623f5372bd94",
   "metadata": {},
   "outputs": [
    {
     "name": "stdout",
     "output_type": "stream",
     "text": [
      "range(0, 5)\n",
      "<class 'range'>\n"
     ]
    }
   ],
   "source": [
    "r = range(5)\n",
    "print(r)\n",
    "print(type(r))"
   ]
  },
  {
   "cell_type": "code",
   "execution_count": 96,
   "id": "6a6d0aa5-61eb-435c-bc0e-9121e872e055",
   "metadata": {},
   "outputs": [
    {
     "name": "stdout",
     "output_type": "stream",
     "text": [
      "range(5, 15)\n"
     ]
    }
   ],
   "source": [
    "r = range(5, 15)\n",
    "print(r)"
   ]
  },
  {
   "cell_type": "code",
   "execution_count": 97,
   "id": "dbeb2cbb-b8df-40dc-8d7a-2c8e1ec38d4e",
   "metadata": {},
   "outputs": [
    {
     "name": "stdout",
     "output_type": "stream",
     "text": [
      "range(5, 15, 2)\n"
     ]
    }
   ],
   "source": [
    "r = range(5, 15, 2)\n",
    "print(r)"
   ]
  },
  {
   "cell_type": "code",
   "execution_count": 99,
   "id": "7deece07-0c5e-4dad-aac1-fa8da7dafa17",
   "metadata": {},
   "outputs": [
    {
     "data": {
      "text/plain": [
       "[5, 7, 9, 11, 13]"
      ]
     },
     "execution_count": 99,
     "metadata": {},
     "output_type": "execute_result"
    }
   ],
   "source": [
    "list(r)"
   ]
  },
  {
   "cell_type": "markdown",
   "id": "3db53842-3bb1-47c0-ba3b-1a5b9ee897a4",
   "metadata": {},
   "source": [
    "### 4.4 String\n",
    "\n",
    "기본 데이터 구조 참고"
   ]
  },
  {
   "cell_type": "markdown",
   "id": "dea1b9bf-c8ea-403e-81b4-c2ad8eeaf2b0",
   "metadata": {},
   "source": [
    "### 4.5 시퀀스에서 사용 가능한 연산.함수"
   ]
  },
  {
   "cell_type": "code",
   "execution_count": 102,
   "id": "63983535-7c8d-4f3c-8be7-b8896748065e",
   "metadata": {},
   "outputs": [],
   "source": [
    "my_list = [1,2,3,4,5]\n",
    "my_tuple = (11,22,33,44,55)\n",
    "my_range = range(1, 10, 2)\n",
    "my_string = '일이삼사오'"
   ]
  },
  {
   "cell_type": "code",
   "execution_count": 105,
   "id": "6978776c-e0ff-499f-a826-82a6e2dde3c2",
   "metadata": {},
   "outputs": [
    {
     "name": "stdout",
     "output_type": "stream",
     "text": [
      "2\n",
      "22\n",
      "3\n",
      "이\n"
     ]
    }
   ],
   "source": [
    "# indexing\n",
    "print(my_list[1])\n",
    "print(my_tuple[1])\n",
    "print(my_range[1])\n",
    "print(my_string[1])"
   ]
  },
  {
   "cell_type": "code",
   "execution_count": 108,
   "id": "02000216-cf83-45e0-9594-6bf347c52606",
   "metadata": {},
   "outputs": [
    {
     "name": "stdout",
     "output_type": "stream",
     "text": [
      "[2, 3]\n",
      "(22, 33)\n",
      "range(3, 7, 2)\n",
      "이삼\n"
     ]
    }
   ],
   "source": [
    "# slicing\n",
    "print(my_list[1:3]) #[n:m]이면 n번째부터 m-1번째까지 출력\n",
    "print(my_tuple[1:3])\n",
    "print(my_range[1:3])\n",
    "print(my_string[1:3])"
   ]
  },
  {
   "cell_type": "code",
   "execution_count": 111,
   "id": "ba4fdc41-ff15-4852-b6e6-67216b9e7a7f",
   "metadata": {},
   "outputs": [
    {
     "name": "stdout",
     "output_type": "stream",
     "text": [
      "range(5, 11, 4)\n",
      "[2, 4]\n"
     ]
    }
   ],
   "source": [
    "print(my_range[2:7:2])\n",
    "print(my_list[1:4:2])"
   ]
  },
  {
   "cell_type": "code",
   "execution_count": 113,
   "id": "93363085-a7ac-4c67-9bdb-7315af5b209b",
   "metadata": {},
   "outputs": [
    {
     "name": "stdout",
     "output_type": "stream",
     "text": [
      "[1, 2, 3]\n",
      "[4, 5]\n"
     ]
    }
   ],
   "source": [
    "print(my_list[:3])\n",
    "print(my_list[3:])"
   ]
  },
  {
   "cell_type": "code",
   "execution_count": 119,
   "id": "deb05fcb-acad-4a8f-bb06-f2ff8429ad73",
   "metadata": {},
   "outputs": [
    {
     "name": "stdout",
     "output_type": "stream",
     "text": [
      "True\n",
      "True\n",
      "False\n",
      "True\n"
     ]
    }
   ],
   "source": [
    "# in\n",
    "print(1 in my_list)\n",
    "print(11 in my_tuple)\n",
    "print(2 in my_range)\n",
    "print('일' in my_string)"
   ]
  },
  {
   "cell_type": "code",
   "execution_count": 123,
   "id": "5e966e83-a467-4659-856e-34ed54f7f7e9",
   "metadata": {},
   "outputs": [
    {
     "name": "stdout",
     "output_type": "stream",
     "text": [
      "True\n",
      "False\n",
      "True\n",
      "False\n"
     ]
    }
   ],
   "source": [
    "# not in\n",
    "print( 11 not in my_list)\n",
    "print( 11 not in my_tuple)\n",
    "print( 11 not in my_range)\n",
    "print( '일' not in my_string)"
   ]
  },
  {
   "cell_type": "code",
   "execution_count": 129,
   "id": "a6d0ff2b-341e-41f7-9485-57974f888f51",
   "metadata": {},
   "outputs": [
    {
     "name": "stdout",
     "output_type": "stream",
     "text": [
      "[1, 2, 3, 4, 5, 1, 2, 3, 4, 5]\n",
      "(11, 22, 33, 44, 55, 1, 2, 3)\n"
     ]
    }
   ],
   "source": [
    "# concatenation\n",
    "print(my_list + [1,2,3,4,5])\n",
    "print(my_tuple + (1,2,3))"
   ]
  },
  {
   "cell_type": "code",
   "execution_count": 133,
   "id": "71bd5152-c85e-41e3-89f6-a5842436f33c",
   "metadata": {},
   "outputs": [
    {
     "name": "stdout",
     "output_type": "stream",
     "text": [
      "일이삼사오일이삼사오일이삼사오\n",
      "[1, 2, 3, 4, 5, 1, 2, 3, 4, 5, 1, 2, 3, 4, 5]\n",
      "[[0, 0, 0, 0, 0, 0, 0, 0, 0, 0], [0, 0, 0, 0, 0, 0, 0, 0, 0, 0], [0, 0, 0, 0, 0, 0, 0, 0, 0, 0], [0, 0, 0, 0, 0, 0, 0, 0, 0, 0], [0, 0, 0, 0, 0, 0, 0, 0, 0, 0], [0, 0, 0, 0, 0, 0, 0, 0, 0, 0], [0, 0, 0, 0, 0, 0, 0, 0, 0, 0], [0, 0, 0, 0, 0, 0, 0, 0, 0, 0], [0, 0, 0, 0, 0, 0, 0, 0, 0, 0], [0, 0, 0, 0, 0, 0, 0, 0, 0, 0]]\n"
     ]
    }
   ],
   "source": [
    "# *\n",
    "print(my_string * 3)\n",
    "print(my_list * 3)\n",
    "\n",
    "print([[0]*10]*10)"
   ]
  },
  {
   "cell_type": "code",
   "execution_count": 134,
   "id": "3dbd9945-ecc8-4d8e-a184-8fdd8e31a674",
   "metadata": {},
   "outputs": [
    {
     "data": {
      "text/plain": [
       "5"
      ]
     },
     "execution_count": 134,
     "metadata": {},
     "output_type": "execute_result"
    }
   ],
   "source": [
    "len(my_list)"
   ]
  },
  {
   "cell_type": "code",
   "execution_count": 136,
   "id": "39fbb194-f513-488a-af0c-8ebe992134e5",
   "metadata": {},
   "outputs": [
    {
     "data": {
      "text/plain": [
       "11"
      ]
     },
     "execution_count": 136,
     "metadata": {},
     "output_type": "execute_result"
    }
   ],
   "source": [
    "min(my_tuple)"
   ]
  },
  {
   "cell_type": "code",
   "execution_count": 137,
   "id": "30c51190-7dca-4fdf-a333-99d845de793c",
   "metadata": {},
   "outputs": [
    {
     "data": {
      "text/plain": [
       "9"
      ]
     },
     "execution_count": 137,
     "metadata": {},
     "output_type": "execute_result"
    }
   ],
   "source": [
    "max(my_range)"
   ]
  },
  {
   "cell_type": "code",
   "execution_count": 139,
   "id": "69ea369f-85b5-45c5-9c65-7f0698d657c0",
   "metadata": {},
   "outputs": [
    {
     "data": {
      "text/plain": [
       "1"
      ]
     },
     "execution_count": 139,
     "metadata": {},
     "output_type": "execute_result"
    }
   ],
   "source": [
    "my_list.count(3) #내가 원하는 값이 몇 개가 있는지에 대한 함수"
   ]
  },
  {
   "cell_type": "markdown",
   "id": "0902828a-9def-465d-be0e-18eeaaf5c6f2",
   "metadata": {},
   "source": [
    "# 5. 시퀀스데이터가 아닌 자료구조"
   ]
  },
  {
   "cell_type": "markdown",
   "id": "a5b934b7-5e21-423f-b64c-3a524aed7071",
   "metadata": {},
   "source": [
    "### 5.1 set\n",
    "\n",
    "수학에서 사용하는 집합과 동일하게 처리(중복된 값이 없음)\n",
    "\n",
    "- 선언 : 변수이름 = {value1, value2, value3}"
   ]
  },
  {
   "cell_type": "code",
   "execution_count": 141,
   "id": "c70b7d84-5a26-475e-9aa6-78d097c11576",
   "metadata": {},
   "outputs": [],
   "source": [
    "my_set_a = {1,2,3,4,5}\n",
    "my_set_b = {1,3,5,7,9}"
   ]
  },
  {
   "cell_type": "code",
   "execution_count": 144,
   "id": "1fe2052c-a426-4c10-8e92-211a5559dd58",
   "metadata": {},
   "outputs": [
    {
     "name": "stdout",
     "output_type": "stream",
     "text": [
      "{2, 4}\n",
      "{1, 2, 3, 4, 5, 7, 9}\n",
      "{1, 3, 5}\n"
     ]
    }
   ],
   "source": [
    "print(my_set_a - my_set_b)\n",
    "print(my_set_a | my_set_b) #or\n",
    "print(my_set_a & my_set_b) #and"
   ]
  },
  {
   "cell_type": "code",
   "execution_count": 146,
   "id": "69917823-6c42-419a-8a49-5ca3da8eefb4",
   "metadata": {},
   "outputs": [
    {
     "name": "stdout",
     "output_type": "stream",
     "text": [
      "{1, 2, 3, 4, 5, 6}\n"
     ]
    }
   ],
   "source": [
    "my_list = [1,2,3,4,5,6,6,3,3,1,2,4,1]\n",
    "print(set(my_list))"
   ]
  },
  {
   "cell_type": "markdown",
   "id": "f6db34af-5721-4494-9d80-ccf468d36d6a",
   "metadata": {},
   "source": [
    "### 5.2 dictionary\n",
    "\n",
    "- 선언 : 변수이름 = {key1 : value1, key2: value2, key3: value3}\n",
    "- 접근 : 변수이름[key]\n",
    "- dictionary는 key와 value가 쌍으로 이루어져있다.\n",
    "- key에는 immutable한 모든 값을 사용가능. (불변값 : string, integer ...)\n",
    "- value에는 모든 데이터 가능. (list, dic도 가능)"
   ]
  },
  {
   "cell_type": "code",
   "execution_count": 147,
   "id": "1cef735a-307e-481b-a1e0-aacf4d161d69",
   "metadata": {},
   "outputs": [
    {
     "data": {
      "text/plain": [
       "'02'"
      ]
     },
     "execution_count": 147,
     "metadata": {},
     "output_type": "execute_result"
    }
   ],
   "source": [
    "my_dict = {'서울': '02', '경기': '031'}\n",
    "my_dict['서울']"
   ]
  },
  {
   "cell_type": "code",
   "execution_count": 152,
   "id": "b4841f57-dbd0-4e9d-a306-5391c09e1ddd",
   "metadata": {},
   "outputs": [
    {
     "name": "stdout",
     "output_type": "stream",
     "text": [
      "24\n",
      "4\n",
      "11\n"
     ]
    }
   ],
   "source": [
    "dict_a = {\n",
    "    'name': 'yoonseong',\n",
    "    'age': '24',\n",
    "    'location': 'Incheon',\n",
    "    'numbers': [1,2,3,4,5],\n",
    "    'friends': {\n",
    "        'a': 10,\n",
    "        'b': 11,\n",
    "    },\n",
    "}\n",
    "\n",
    "print(dict_a['age'])\n",
    "print(dict_a['numbers'][3])\n",
    "print(dict_a['friends']['b'])"
   ]
  },
  {
   "cell_type": "code",
   "execution_count": 154,
   "id": "b0445b5c-c347-4613-93c8-e786f6289f78",
   "metadata": {},
   "outputs": [
    {
     "data": {
      "text/plain": [
       "dict_keys(['name', 'age', 'location', 'numbers', 'friends'])"
      ]
     },
     "execution_count": 154,
     "metadata": {},
     "output_type": "execute_result"
    }
   ],
   "source": [
    "dict_a.keys()"
   ]
  },
  {
   "cell_type": "code",
   "execution_count": 155,
   "id": "cf558907-b04c-4233-b241-88c2d9b9064b",
   "metadata": {},
   "outputs": [
    {
     "data": {
      "text/plain": [
       "dict_values(['yoonseong', '24', 'Incheon', [1, 2, 3, 4, 5], {'a': 10, 'b': 11}])"
      ]
     },
     "execution_count": 155,
     "metadata": {},
     "output_type": "execute_result"
    }
   ],
   "source": [
    "dict_a.values()"
   ]
  },
  {
   "cell_type": "markdown",
   "id": "3d73a6e1-bbc4-4c9b-9d7e-07a79c08c46e",
   "metadata": {},
   "source": [
    "##  데이터 타입\n",
    "\n",
    "1. Number\n",
    "2. Boolean\n",
    "3. String\n",
    "\n",
    "## 자료구조\n",
    "\n",
    "- 시퀀스 자료\n",
    "1. [List] : mutable\n",
    "2. 2.(Tuple) : immutable\n",
    "3. 3.range() : immutalbe\n",
    "4. 4.'String' : immutable\n",
    "\n",
    "  \n",
    "- 시퀀스가 아닌 자료형\n",
    "1. {Set} : mutable\n",
    "2.  {Dict : ionary} : mutable"
   ]
  },
  {
   "cell_type": "code",
   "execution_count": null,
   "id": "fa7e9796-c7b7-4495-b919-2a45417d3cd6",
   "metadata": {},
   "outputs": [],
   "source": []
  }
 ],
 "metadata": {
  "kernelspec": {
   "display_name": "Python 3 (ipykernel)",
   "language": "python",
   "name": "python3"
  },
  "language_info": {
   "codemirror_mode": {
    "name": "ipython",
    "version": 3
   },
   "file_extension": ".py",
   "mimetype": "text/x-python",
   "name": "python",
   "nbconvert_exporter": "python",
   "pygments_lexer": "ipython3",
   "version": "3.11.5"
  }
 },
 "nbformat": 4,
 "nbformat_minor": 5
}
