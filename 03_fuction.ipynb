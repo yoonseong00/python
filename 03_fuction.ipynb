{
 "cells": [
  {
   "cell_type": "markdown",
   "id": "fe1fa6cf-8c30-4047-994e-8388bde61f48",
   "metadata": {},
   "source": [
    "# 함수(function)"
   ]
  },
  {
   "cell_type": "code",
   "execution_count": 5,
   "id": "47db0c3d-8e15-435a-9d0f-40762e9c1332",
   "metadata": {},
   "outputs": [
    {
     "name": "stdout",
     "output_type": "stream",
     "text": [
      "직사각형은 면적은2000이고 둘레는240입니다.\n"
     ]
    }
   ],
   "source": [
    "height = 100\n",
    "width = 20\n",
    "\n",
    "area = height * width\n",
    "perimeter = (height + width) * 2\n",
    "\n",
    "print(f'직사각형은 면적은{area}이고 둘레는{perimeter}입니다.')"
   ]
  },
  {
   "cell_type": "markdown",
   "id": "38cc27aa-4a57-48ef-be99-b061bb6cb575",
   "metadata": {},
   "source": [
    "## 함수의 선언과 호출\n",
    "\n",
    "- 함수의 선언\n",
    "```python\n",
    "def func_name(parameter1, parameter2): #파라미터는 매개변수 즉, 함수를 만드는 재료\n",
    "    code1\n",
    "    code2\n",
    "    ...\n",
    "    return value\n",
    "```\n",
    "\n",
    "- 함수의 호출(실행)\n",
    "\n",
    "    func_name(parameter1, parameter2)"
   ]
  },
  {
   "cell_type": "code",
   "execution_count": 7,
   "id": "f3b96f48-ee47-4038-b79f-342fc686ace2",
   "metadata": {},
   "outputs": [],
   "source": [
    "def rectangle(height, width):\n",
    "    area = height * width\n",
    "    perimeter = (height + width) * 2\n",
    "    print(area, perimeter)"
   ]
  },
  {
   "cell_type": "code",
   "execution_count": 10,
   "id": "48b697fd-1986-4948-aa5a-edf3204a245d",
   "metadata": {},
   "outputs": [
    {
     "name": "stdout",
     "output_type": "stream",
     "text": [
      "5000 300\n",
      "600 100\n",
      "200 60\n"
     ]
    }
   ],
   "source": [
    "rectangle(100, 50)\n",
    "rectangle(20, 30)\n",
    "rectangle(10, 20)"
   ]
  },
  {
   "cell_type": "code",
   "execution_count": 11,
   "id": "42bb60ef-f639-48e9-ae41-bd2e9ce0b77f",
   "metadata": {},
   "outputs": [
    {
     "data": {
      "text/plain": [
       "['ArithmeticError',\n",
       " 'AssertionError',\n",
       " 'AttributeError',\n",
       " 'BaseException',\n",
       " 'BaseExceptionGroup',\n",
       " 'BlockingIOError',\n",
       " 'BrokenPipeError',\n",
       " 'BufferError',\n",
       " 'BytesWarning',\n",
       " 'ChildProcessError',\n",
       " 'ConnectionAbortedError',\n",
       " 'ConnectionError',\n",
       " 'ConnectionRefusedError',\n",
       " 'ConnectionResetError',\n",
       " 'DeprecationWarning',\n",
       " 'EOFError',\n",
       " 'Ellipsis',\n",
       " 'EncodingWarning',\n",
       " 'EnvironmentError',\n",
       " 'Exception',\n",
       " 'ExceptionGroup',\n",
       " 'False',\n",
       " 'FileExistsError',\n",
       " 'FileNotFoundError',\n",
       " 'FloatingPointError',\n",
       " 'FutureWarning',\n",
       " 'GeneratorExit',\n",
       " 'IOError',\n",
       " 'ImportError',\n",
       " 'ImportWarning',\n",
       " 'IndentationError',\n",
       " 'IndexError',\n",
       " 'InterruptedError',\n",
       " 'IsADirectoryError',\n",
       " 'KeyError',\n",
       " 'KeyboardInterrupt',\n",
       " 'LookupError',\n",
       " 'MemoryError',\n",
       " 'ModuleNotFoundError',\n",
       " 'NameError',\n",
       " 'None',\n",
       " 'NotADirectoryError',\n",
       " 'NotImplemented',\n",
       " 'NotImplementedError',\n",
       " 'OSError',\n",
       " 'OverflowError',\n",
       " 'PendingDeprecationWarning',\n",
       " 'PermissionError',\n",
       " 'ProcessLookupError',\n",
       " 'RecursionError',\n",
       " 'ReferenceError',\n",
       " 'ResourceWarning',\n",
       " 'RuntimeError',\n",
       " 'RuntimeWarning',\n",
       " 'StopAsyncIteration',\n",
       " 'StopIteration',\n",
       " 'SyntaxError',\n",
       " 'SyntaxWarning',\n",
       " 'SystemError',\n",
       " 'SystemExit',\n",
       " 'TabError',\n",
       " 'TimeoutError',\n",
       " 'True',\n",
       " 'TypeError',\n",
       " 'UnboundLocalError',\n",
       " 'UnicodeDecodeError',\n",
       " 'UnicodeEncodeError',\n",
       " 'UnicodeError',\n",
       " 'UnicodeTranslateError',\n",
       " 'UnicodeWarning',\n",
       " 'UserWarning',\n",
       " 'ValueError',\n",
       " 'Warning',\n",
       " 'WindowsError',\n",
       " 'ZeroDivisionError',\n",
       " '__IPYTHON__',\n",
       " '__build_class__',\n",
       " '__debug__',\n",
       " '__doc__',\n",
       " '__import__',\n",
       " '__loader__',\n",
       " '__name__',\n",
       " '__package__',\n",
       " '__spec__',\n",
       " 'abs',\n",
       " 'aiter',\n",
       " 'all',\n",
       " 'anext',\n",
       " 'any',\n",
       " 'ascii',\n",
       " 'bin',\n",
       " 'bool',\n",
       " 'breakpoint',\n",
       " 'bytearray',\n",
       " 'bytes',\n",
       " 'callable',\n",
       " 'chr',\n",
       " 'classmethod',\n",
       " 'compile',\n",
       " 'complex',\n",
       " 'copyright',\n",
       " 'credits',\n",
       " 'delattr',\n",
       " 'dict',\n",
       " 'dir',\n",
       " 'display',\n",
       " 'divmod',\n",
       " 'enumerate',\n",
       " 'eval',\n",
       " 'exec',\n",
       " 'execfile',\n",
       " 'filter',\n",
       " 'float',\n",
       " 'format',\n",
       " 'frozenset',\n",
       " 'get_ipython',\n",
       " 'getattr',\n",
       " 'globals',\n",
       " 'hasattr',\n",
       " 'hash',\n",
       " 'help',\n",
       " 'hex',\n",
       " 'id',\n",
       " 'input',\n",
       " 'int',\n",
       " 'isinstance',\n",
       " 'issubclass',\n",
       " 'iter',\n",
       " 'len',\n",
       " 'license',\n",
       " 'list',\n",
       " 'locals',\n",
       " 'map',\n",
       " 'max',\n",
       " 'memoryview',\n",
       " 'min',\n",
       " 'next',\n",
       " 'object',\n",
       " 'oct',\n",
       " 'open',\n",
       " 'ord',\n",
       " 'pow',\n",
       " 'print',\n",
       " 'property',\n",
       " 'range',\n",
       " 'repr',\n",
       " 'reversed',\n",
       " 'round',\n",
       " 'runfile',\n",
       " 'set',\n",
       " 'setattr',\n",
       " 'slice',\n",
       " 'sorted',\n",
       " 'staticmethod',\n",
       " 'str',\n",
       " 'sum',\n",
       " 'super',\n",
       " 'tuple',\n",
       " 'type',\n",
       " 'vars',\n",
       " 'zip']"
      ]
     },
     "execution_count": 11,
     "metadata": {},
     "output_type": "execute_result"
    }
   ],
   "source": [
    "dir(__builtins__)"
   ]
  },
  {
   "cell_type": "code",
   "execution_count": 12,
   "id": "ca32352b-3581-4220-a283-ecb93123cc18",
   "metadata": {},
   "outputs": [
    {
     "data": {
      "text/plain": [
       "7"
      ]
     },
     "execution_count": 12,
     "metadata": {},
     "output_type": "execute_result"
    }
   ],
   "source": [
    "max(1, 3, 5, 7)"
   ]
  },
  {
   "cell_type": "code",
   "execution_count": 19,
   "id": "685d6e92-9fcf-4749-b97b-97504de6091a",
   "metadata": {},
   "outputs": [],
   "source": [
    "# 두 개의 정수르 받아서 큰 수를 출력\n",
    "def my_max(num1, num2):\n",
    "    if num1 > num2:\n",
    "        print(num1)\n",
    "    elif num1 < num2:\n",
    "        print(num2)\n",
    "    else:\n",
    "        print('같습니다.')\n",
    "\n",
    "    #return None"
   ]
  },
  {
   "cell_type": "code",
   "execution_count": 28,
   "id": "c76421a2-d0e0-401a-8eec-098ebafa62ba",
   "metadata": {},
   "outputs": [
    {
     "name": "stdout",
     "output_type": "stream",
     "text": [
      "70\n",
      "100\n",
      "같습니다.\n",
      "None\n"
     ]
    }
   ],
   "source": [
    "my_max(30, 70)\n",
    "my_max(100, 69)\n",
    "a = my_max(50, 50)\n",
    "print(a)"
   ]
  },
  {
   "cell_type": "markdown",
   "id": "05fdf362-0af6-4a85-8d69-65d5ededb71a",
   "metadata": {},
   "source": [
    "## 함수의 return\n",
    "\n",
    "- 함수가 return을 만나면 해당 값을 반환하고 함수를 종료\n",
    "- 만약 return이 없다면 None을 자동으로 반환\n",
    "- return은 오직 하나의 객체만을 반환"
   ]
  },
  {
   "cell_type": "code",
   "execution_count": 26,
   "id": "e5db2439-1eee-44fc-b75e-2923c0b60004",
   "metadata": {},
   "outputs": [],
   "source": [
    "def my_max2(num1, num2):\n",
    "    # return 'hello' \n",
    "    \n",
    "    if num1 > num2:\n",
    "        return num1\n",
    "    elif num1 < num2:\n",
    "        return num2\n",
    "    else:\n",
    "        return num1"
   ]
  },
  {
   "cell_type": "code",
   "execution_count": 27,
   "id": "96218f7b-8c45-4580-8bb5-77c375ac6b1f",
   "metadata": {},
   "outputs": [
    {
     "name": "stdout",
     "output_type": "stream",
     "text": [
      "70\n"
     ]
    }
   ],
   "source": [
    "a = my_max2(50, 70)\n",
    "print(a)"
   ]
  },
  {
   "cell_type": "code",
   "execution_count": 35,
   "id": "43101fa3-7d20-4c30-af3c-7794d0a170fb",
   "metadata": {},
   "outputs": [],
   "source": [
    "def my_list_max(list1, list2):\n",
    "    if sum(list1) > sum(list2):\n",
    "        return list1\n",
    "    else:\n",
    "        return list2"
   ]
  },
  {
   "cell_type": "code",
   "execution_count": 36,
   "id": "b8bd7b9b-d42d-4754-ad97-eddeeeb7b96d",
   "metadata": {},
   "outputs": [
    {
     "data": {
      "text/plain": [
       "[5, 6, 7]"
      ]
     },
     "execution_count": 36,
     "metadata": {},
     "output_type": "execute_result"
    }
   ],
   "source": [
    "my_list_max([1,2,3], [5,6,7])"
   ]
  },
  {
   "cell_type": "code",
   "execution_count": 37,
   "id": "7e542e59-e5dc-4f8e-9df1-50b33e863d1b",
   "metadata": {},
   "outputs": [],
   "source": [
    "def my_def(x):\n",
    "    return x*2"
   ]
  },
  {
   "cell_type": "code",
   "execution_count": 38,
   "id": "3bea1e11-d230-4d2d-b100-30461b0c34a1",
   "metadata": {},
   "outputs": [
    {
     "name": "stdout",
     "output_type": "stream",
     "text": [
      "10\n"
     ]
    }
   ],
   "source": [
    "a = my_def(5)\n",
    "print(a)"
   ]
  },
  {
   "cell_type": "code",
   "execution_count": 39,
   "id": "4fa63ad3-8288-407f-a108-98d2b9bceda2",
   "metadata": {},
   "outputs": [],
   "source": [
    "def my_def(x):\n",
    "    print(x*2)"
   ]
  },
  {
   "cell_type": "code",
   "execution_count": 40,
   "id": "fbe80fe3-5916-43d7-87b0-f9693f3d6f6e",
   "metadata": {},
   "outputs": [
    {
     "name": "stdout",
     "output_type": "stream",
     "text": [
      "20\n",
      "None\n"
     ]
    }
   ],
   "source": [
    "b = my_def(10)\n",
    "print(b)"
   ]
  },
  {
   "cell_type": "markdown",
   "id": "ec5859f1-f578-4463-a673-34f09139e414",
   "metadata": {},
   "source": [
    "# 함수의 인수"
   ]
  },
  {
   "cell_type": "markdown",
   "id": "787b133d-0c37-48da-964d-857be0a86b6d",
   "metadata": {},
   "source": [
    "### 위치인수\n",
    "기본적으로 함수는 인수의 위치로 판단한다"
   ]
  },
  {
   "cell_type": "code",
   "execution_count": 41,
   "id": "c6a07161-f241-4ac1-9d23-d423fca22e71",
   "metadata": {},
   "outputs": [],
   "source": [
    "def cylinder(r, h):\n",
    "    return 3.14 *r**2*h"
   ]
  },
  {
   "cell_type": "code",
   "execution_count": 44,
   "id": "9ce46e2a-0a9b-4269-b481-492a8ab7b4fe",
   "metadata": {},
   "outputs": [
    {
     "name": "stdout",
     "output_type": "stream",
     "text": [
      "1570.0\n",
      "785.0\n"
     ]
    }
   ],
   "source": [
    "print(cylinder(10, 5))\n",
    "print(cylinder(5, 10))"
   ]
  },
  {
   "cell_type": "markdown",
   "id": "abbad83a-748b-428f-9533-b0a2b9e310d0",
   "metadata": {},
   "source": [
    "### 기본값\n",
    "\n",
    "```python\n",
    "def func(p1=v1):\n",
    "    code...\n",
    "    return p1\n",
    "```"
   ]
  },
  {
   "cell_type": "code",
   "execution_count": 48,
   "id": "ab419ce8-fc89-48d4-b640-937190fa6112",
   "metadata": {},
   "outputs": [],
   "source": [
    "def greeting(name='익명'):\n",
    "    return f'{name}님 안녕하세요!'"
   ]
  },
  {
   "cell_type": "code",
   "execution_count": 49,
   "id": "31a27955-a4a6-4091-8fe5-1079819c9f1a",
   "metadata": {},
   "outputs": [
    {
     "data": {
      "text/plain": [
       "'yoonseong님 안녕하세요!'"
      ]
     },
     "execution_count": 49,
     "metadata": {},
     "output_type": "execute_result"
    }
   ],
   "source": [
    "greeting('yoonseong')"
   ]
  },
  {
   "cell_type": "code",
   "execution_count": 50,
   "id": "058965c1-e29c-47e4-b361-32d476480c7c",
   "metadata": {},
   "outputs": [
    {
     "data": {
      "text/plain": [
       "'익명님 안녕하세요!'"
      ]
     },
     "execution_count": 50,
     "metadata": {},
     "output_type": "execute_result"
    }
   ],
   "source": [
    "greeting()"
   ]
  },
  {
   "cell_type": "code",
   "execution_count": 52,
   "id": "b6536df3-0b33-4d4c-ab2b-a836886c38c4",
   "metadata": {},
   "outputs": [
    {
     "name": "stdout",
     "output_type": "stream",
     "text": [
      "hello!world\n"
     ]
    }
   ],
   "source": [
    "print('hello', 'world', sep='!')"
   ]
  },
  {
   "cell_type": "code",
   "execution_count": 59,
   "id": "2ba52949-d6cd-48ae-8a62-3429e1823a30",
   "metadata": {},
   "outputs": [],
   "source": [
    "def greeting(age,name='익명'):\n",
    "    return f'{name}님은 {age}살입니다.'"
   ]
  },
  {
   "cell_type": "code",
   "execution_count": 61,
   "id": "57883685-ba50-48cd-9b3f-217af0998485",
   "metadata": {},
   "outputs": [
    {
     "name": "stdout",
     "output_type": "stream",
     "text": [
      "50님은 홍길동살입니다.\n",
      "익명님은 50살입니다.\n"
     ]
    }
   ],
   "source": [
    "print(greeting('홍길동', 50))\n",
    "print(greeting(50))"
   ]
  },
  {
   "cell_type": "markdown",
   "id": "30b807de-0f64-4842-ae52-4aa6e1ceb858",
   "metadata": {},
   "source": [
    "#### 키워드 인자\n",
    "함수를 호출 혹은 실행할 때 내가 원하는 위치에 직접적으로 특정인자를 전달 가능"
   ]
  },
  {
   "cell_type": "code",
   "execution_count": 62,
   "id": "51110982-426a-43c9-8eea-e462e4714cfa",
   "metadata": {},
   "outputs": [],
   "source": [
    "def greeting(age,name='익명'):\n",
    "    return f'{name}님은 {age}살입니다.'"
   ]
  },
  {
   "cell_type": "code",
   "execution_count": 64,
   "id": "f8dbf5e5-2a41-4cdf-9046-80067dcc542d",
   "metadata": {},
   "outputs": [
    {
     "name": "stdout",
     "output_type": "stream",
     "text": [
      "익명님은 10살입니다.\n",
      "50님은 홍길동살입니다.\n",
      "홍길동님은 30살입니다.\n"
     ]
    }
   ],
   "source": [
    "print(greeting(10))\n",
    "print(greeting('홍길동', 50))\n",
    "print(greeting(name='홍길동', age=30))"
   ]
  },
  {
   "cell_type": "markdown",
   "id": "207b7fb2-9101-4ee5-9cfe-350de529465d",
   "metadata": {},
   "source": [
    "### 가변 인자 리스트\n",
    "```python\n",
    "def func(*parms):\n",
    "    code\n",
    "    ...\n",
    "```"
   ]
  },
  {
   "cell_type": "code",
   "execution_count": 66,
   "id": "7d457dca-dce0-4268-9046-55b51df897ae",
   "metadata": {},
   "outputs": [],
   "source": [
    "def my_print(*words): # 여기서 *은 가변인자로써 데이터를 받은 후에 tuple로 저장한다. 이는 뒤에 데이터가 추가로 들어와도 받아드릴 수 있다.\n",
    "    print(words)"
   ]
  },
  {
   "cell_type": "code",
   "execution_count": 69,
   "id": "ed025e7d-28c4-490a-9f8b-1370b4cc2089",
   "metadata": {},
   "outputs": [
    {
     "name": "stdout",
     "output_type": "stream",
     "text": [
      "('집가고싶다', '물론 지금 집이지만')\n"
     ]
    }
   ],
   "source": [
    "my_print('집가고싶다', '물론 지금 집이지만')"
   ]
  },
  {
   "cell_type": "code",
   "execution_count": 70,
   "id": "87a47d85-64dd-4336-b6a5-2291fcb637d4",
   "metadata": {},
   "outputs": [
    {
     "name": "stdout",
     "output_type": "stream",
     "text": [
      "a공간b공간c\n"
     ]
    }
   ],
   "source": [
    "print('a', 'b', 'c', sep='공간')"
   ]
  },
  {
   "cell_type": "code",
   "execution_count": 88,
   "id": "3c724481-3cbe-4b83-882a-bd0964d0aa2c",
   "metadata": {},
   "outputs": [],
   "source": [
    "# 여러개의 숫자를 받아 그 중 가장 큰수를 리턴\n",
    "def my_max(*numbers):\n",
    "    result = numbers[0]\n",
    "    \n",
    "    for number in numbers:\n",
    "        if result < number:\n",
    "            result = number\n",
    "    return result"
   ]
  },
  {
   "cell_type": "code",
   "execution_count": 89,
   "id": "32d4f0ea-78b4-48e5-b092-73173c392c92",
   "metadata": {},
   "outputs": [
    {
     "name": "stdout",
     "output_type": "stream",
     "text": [
      "-0.1\n",
      "150\n"
     ]
    }
   ],
   "source": [
    "print(my_max(-5 , -2, -3, -1, -100, -0.1))\n",
    "print(my_max(-1, 1, 5, 100, 150, 28))"
   ]
  },
  {
   "cell_type": "markdown",
   "id": "ab966b87-1bce-43cd-92d1-49c1eb76262c",
   "metadata": {},
   "source": [
    "### 정의되지 않은 키워드 인자 처리하기\n",
    "```python\n",
    "def func(**kwargs):\n",
    "    code\n",
    "    ...\n",
    "```\n",
    "- 어떤 데이터 또는 얼만큼의 데이터가 들어올지 모를 때 사용\n",
    "  "
   ]
  },
  {
   "cell_type": "code",
   "execution_count": 90,
   "id": "bbcceaf5-f394-4a55-86dd-84f75462bd8d",
   "metadata": {},
   "outputs": [
    {
     "name": "stdout",
     "output_type": "stream",
     "text": [
      "{'name': 'hong', 'age': 10}\n"
     ]
    }
   ],
   "source": [
    "info = {\n",
    "    'name': 'hong',\n",
    "    'age': 10,\n",
    "}\n",
    "print(info)"
   ]
  },
  {
   "cell_type": "code",
   "execution_count": 92,
   "id": "9cd00e31-bf3c-4af3-95df-4b433c9d6ead",
   "metadata": {},
   "outputs": [
    {
     "name": "stdout",
     "output_type": "stream",
     "text": [
      "{'name': 'hong', 'age': 20}\n"
     ]
    }
   ],
   "source": [
    "info =dict(name='hong', age= 20)\n",
    "print(info)"
   ]
  },
  {
   "cell_type": "code",
   "execution_count": 97,
   "id": "65fceb13-834c-446a-9eea-49b79f91ebb6",
   "metadata": {},
   "outputs": [],
   "source": [
    "def fake_dict(**kwargs):\n",
    "    for key, value in kwargs.items():\n",
    "        print(f'{key}는 {value}입니다.')"
   ]
  },
  {
   "cell_type": "code",
   "execution_count": 102,
   "id": "18dfac1f-303a-47d9-935d-0fdb3af6c011",
   "metadata": {},
   "outputs": [
    {
     "name": "stdout",
     "output_type": "stream",
     "text": [
      "a는 10입니다.\n",
      "b는 20입니다.\n"
     ]
    }
   ],
   "source": [
    "fake_dict(a=10, b=20)"
   ]
  },
  {
   "cell_type": "markdown",
   "id": "d88f8df2-22fc-4fa7-b9ef-c6c75e10c1c2",
   "metadata": {},
   "source": [
    "### dictionary를 인자로 넣기(unpacking)"
   ]
  },
  {
   "cell_type": "code",
   "execution_count": 103,
   "id": "2ab80d1b-7c24-471a-bd25-1d0954896a8a",
   "metadata": {},
   "outputs": [],
   "source": [
    "def sign_up(id, pw, pw_cofirmation):\n",
    "    if pw == pw_cofirmation:\n",
    "        print(f'{id}님 회원가입이 완료되었습니다.')\n",
    "    else:\n",
    "        print('비밀번호가 일치하지 않습니다.')"
   ]
  },
  {
   "cell_type": "code",
   "execution_count": 104,
   "id": "bb8f67d8-1a90-40bf-8870-671a67f242b2",
   "metadata": {},
   "outputs": [
    {
     "name": "stdout",
     "output_type": "stream",
     "text": [
      "yoonseong님 회원가입이 완료되었습니다.\n"
     ]
    }
   ],
   "source": [
    "sign_up('yoonseong', '1234', '1234')"
   ]
  },
  {
   "cell_type": "code",
   "execution_count": 105,
   "id": "b554cb9c-3e6d-4e5a-bce6-141803535afc",
   "metadata": {},
   "outputs": [
    {
     "name": "stdout",
     "output_type": "stream",
     "text": [
      "비밀번호가 일치하지 않습니다.\n"
     ]
    }
   ],
   "source": [
    "sign_up('yoonseong', '1234', '12345')"
   ]
  },
  {
   "cell_type": "code",
   "execution_count": 106,
   "id": "a92254e4-a389-4cff-927d-2d141837e610",
   "metadata": {},
   "outputs": [
    {
     "name": "stdout",
     "output_type": "stream",
     "text": [
      "yoonseong님 회원가입이 완료되었습니다.\n"
     ]
    }
   ],
   "source": [
    "account = {\n",
    "    'id': 'yoonseong',\n",
    "    'pw': '1234',\n",
    "    'pw_cofirmation': '1234',\n",
    "}\n",
    "sign_up(**account)"
   ]
  },
  {
   "cell_type": "markdown",
   "id": "14aa38ab-09df-4f00-a3b2-506d60decd38",
   "metadata": {},
   "source": [
    "### lambda 표현식\n",
    "    lambda parameter: expression"
   ]
  },
  {
   "cell_type": "code",
   "execution_count": 110,
   "id": "46eef09d-6241-4d3d-a15c-a00d4ea00993",
   "metadata": {},
   "outputs": [
    {
     "data": {
      "text/plain": [
       "3"
      ]
     },
     "execution_count": 110,
     "metadata": {},
     "output_type": "execute_result"
    }
   ],
   "source": [
    "(lambda x, y: x + y)(1, 2) #lambda는 일회성 함수, 함수를 임시로 만들어야하는 상황 "
   ]
  },
  {
   "cell_type": "code",
   "execution_count": 108,
   "id": "d8ed0a51-8df9-4efa-86b0-66e5f30837fa",
   "metadata": {},
   "outputs": [
    {
     "data": {
      "text/plain": [
       "3"
      ]
     },
     "execution_count": 108,
     "metadata": {},
     "output_type": "execute_result"
    }
   ],
   "source": [
    "def my_sum(x, y):\n",
    "    return x + y\n",
    "\n",
    "my_sum(1, 2)"
   ]
  },
  {
   "cell_type": "markdown",
   "id": "f57ad0b3-1d93-49bd-9336-a60d497a0f2e",
   "metadata": {},
   "source": [
    "### 타입힌트"
   ]
  },
  {
   "cell_type": "code",
   "execution_count": 114,
   "id": "7e7fd012-6957-42d3-9443-07bc78c62627",
   "metadata": {},
   "outputs": [],
   "source": [
    "def my_sum(a: int, b: int) -> int:  #다른 사람이 이 변수를 보고 어떠한 타입인지 쉽게 알기 위해 쓰는 타입 but, 저걸 적는다고 문자가 숫자로 바뀌진 않음\n",
    "    return a + b"
   ]
  },
  {
   "cell_type": "code",
   "execution_count": 115,
   "id": "7dfdf7a8-ea42-4f33-8cf2-cd069e6dc9d8",
   "metadata": {},
   "outputs": [
    {
     "ename": "TypeError",
     "evalue": "can only concatenate str (not \"int\") to str",
     "output_type": "error",
     "traceback": [
      "\u001b[1;31m---------------------------------------------------------------------------\u001b[0m",
      "\u001b[1;31mTypeError\u001b[0m                                 Traceback (most recent call last)",
      "Cell \u001b[1;32mIn[115], line 1\u001b[0m\n\u001b[1;32m----> 1\u001b[0m \u001b[43mmy_sum\u001b[49m\u001b[43m(\u001b[49m\u001b[38;5;124;43m'\u001b[39;49m\u001b[38;5;124;43m1\u001b[39;49m\u001b[38;5;124;43m'\u001b[39;49m\u001b[43m,\u001b[49m\u001b[43m \u001b[49m\u001b[38;5;241;43m2\u001b[39;49m\u001b[43m)\u001b[49m\n",
      "Cell \u001b[1;32mIn[114], line 2\u001b[0m, in \u001b[0;36mmy_sum\u001b[1;34m(a, b)\u001b[0m\n\u001b[0;32m      1\u001b[0m \u001b[38;5;28;01mdef\u001b[39;00m \u001b[38;5;21mmy_sum\u001b[39m(a: \u001b[38;5;28mint\u001b[39m, b: \u001b[38;5;28mint\u001b[39m) \u001b[38;5;241m-\u001b[39m\u001b[38;5;241m>\u001b[39m \u001b[38;5;28mint\u001b[39m:\n\u001b[1;32m----> 2\u001b[0m     \u001b[38;5;28;01mreturn\u001b[39;00m \u001b[43ma\u001b[49m\u001b[43m \u001b[49m\u001b[38;5;241;43m+\u001b[39;49m\u001b[43m \u001b[49m\u001b[43mb\u001b[49m\n",
      "\u001b[1;31mTypeError\u001b[0m: can only concatenate str (not \"int\") to str"
     ]
    }
   ],
   "source": [
    "my_sum('1', 2)"
   ]
  },
  {
   "cell_type": "markdown",
   "id": "7321d1e5-2517-4e5f-b59a-7d7b59a44737",
   "metadata": {},
   "source": [
    "# 이름공간(scope)\n",
    "\n",
    "python에서 사용되는 이름들은 이름공간 (namespace)에 저장되어있습니다.\n",
    "\n",
    "- Local scope : 정의된 함수 내부 (제일 가까운 곳)\n",
    "- Enclosed scope : 상위 함수(함수가 여러 개로 중첩될 수 있음)\n",
    "- Global scope : 함수 밖의 변수 혹은 import된 모듈\n",
    "- Built-in scope : 파이썬이 기본으로 가지고 있는 함수 혹은 변수"
   ]
  },
  {
   "cell_type": "code",
   "execution_count": 13,
   "id": "097a8f95-cd07-42f1-bcba-02ff8e25ae81",
   "metadata": {},
   "outputs": [],
   "source": [
    "str = '123'"
   ]
  },
  {
   "cell_type": "code",
   "execution_count": 14,
   "id": "29e9838e-6368-42aa-ac2c-72305715c3e5",
   "metadata": {},
   "outputs": [
    {
     "name": "stdout",
     "output_type": "stream",
     "text": [
      "123\n"
     ]
    }
   ],
   "source": [
    "print(str)"
   ]
  },
  {
   "cell_type": "code",
   "execution_count": 15,
   "id": "345222ad-c486-4cac-8caf-b8e1bc2c0335",
   "metadata": {},
   "outputs": [],
   "source": [
    "del str "
   ]
  },
  {
   "cell_type": "code",
   "execution_count": 19,
   "id": "4e5aa47c-ad20-471b-86a6-f3783be71ed4",
   "metadata": {},
   "outputs": [
    {
     "name": "stdout",
     "output_type": "stream",
     "text": [
      "5\n",
      "1\n"
     ]
    }
   ],
   "source": [
    "a = 1\n",
    "def local_scope(a):\n",
    "    print(a)\n",
    "\n",
    "local_scope(5)\n",
    "print(a)"
   ]
  },
  {
   "cell_type": "code",
   "execution_count": 21,
   "id": "be0b03b9-ac3d-4101-9162-f5318fd47e5a",
   "metadata": {},
   "outputs": [
    {
     "name": "stdout",
     "output_type": "stream",
     "text": [
      "10\n"
     ]
    }
   ],
   "source": [
    "a = 10\n",
    "\n",
    "def global_scope():\n",
    "    global a\n",
    "    print(a)\n",
    "\n",
    "global_scope()"
   ]
  },
  {
   "cell_type": "markdown",
   "id": "9b4b89f6-37ee-4ce2-95aa-03f2c101625b",
   "metadata": {},
   "source": [
    "### 재귀(recursive)\n",
    "재귀 함수는 함수 내부에서 자기 자신을 호출하는 함수를 의미한다."
   ]
  },
  {
   "cell_type": "code",
   "execution_count": 26,
   "id": "38608ec8-238b-4bd8-aba1-0c258ca1bfa2",
   "metadata": {},
   "outputs": [
    {
     "name": "stdout",
     "output_type": "stream",
     "text": [
      "120\n"
     ]
    }
   ],
   "source": [
    "# 팩토리얼)(n!)\n",
    "\n",
    "def fact(n):\n",
    "    result = 1\n",
    "\n",
    "    while n > 1:\n",
    "        result = result * n\n",
    "\n",
    "        n = n - 1\n",
    "\n",
    "    return result\n",
    "\n",
    "print(fact(5))"
   ]
  },
  {
   "cell_type": "code",
   "execution_count": 28,
   "id": "a819e1df-8a2f-4316-9626-5f20edd647a8",
   "metadata": {},
   "outputs": [
    {
     "name": "stdout",
     "output_type": "stream",
     "text": [
      "24\n"
     ]
    }
   ],
   "source": [
    "def factorial(n):\n",
    "    if n<=1:\n",
    "        return 1\n",
    "    else:\n",
    "        return factorial(n-1) * n\n",
    "\n",
    "print(factorial(4))"
   ]
  },
  {
   "cell_type": "markdown",
   "id": "19678cd1-bd5d-4754-9456-f2ad8eba5d83",
   "metadata": {},
   "source": [
    "#### 피보나치 수열\n",
    "\n",
    "- F(0) = F(1) = 1\n",
    "- F(n) = F(n-1) + F(n-2)"
   ]
  },
  {
   "cell_type": "code",
   "execution_count": 30,
   "id": "0f3d1bab-7a10-43e7-986c-a7402bc139f4",
   "metadata": {},
   "outputs": [
    {
     "name": "stdout",
     "output_type": "stream",
     "text": [
      "89\n"
     ]
    }
   ],
   "source": [
    "# 피보나치\n",
    "\n",
    "def fib_loop(n):\n",
    "    result = [1, 1]\n",
    "\n",
    "    for i in range(1, n):\n",
    "        end1 = result[-1]\n",
    "        end2 = result[-2]\n",
    "\n",
    "        fib_num = end1 + end2\n",
    "\n",
    "        result.append(fib_num)\n",
    "\n",
    "    return result[-1]\n",
    "\n",
    "print(fib_loop(10))"
   ]
  },
  {
   "cell_type": "code",
   "execution_count": 32,
   "id": "5d03af30-cf61-4f73-b05d-f9e92dc6b847",
   "metadata": {},
   "outputs": [
    {
     "name": "stdout",
     "output_type": "stream",
     "text": [
      "89\n"
     ]
    }
   ],
   "source": [
    "#재귀\n",
    "def fib_rec(n):\n",
    "    if n == 0 or n == 1:\n",
    "        return 1\n",
    "    else:\n",
    "        return fib_rec(n-1) + fib_rec(n-2)\n",
    "\n",
    "print(fib_rec(10))"
   ]
  },
  {
   "cell_type": "code",
   "execution_count": null,
   "id": "bc2e3e8c-ef1f-4a3d-b29f-b93114eeb0b7",
   "metadata": {},
   "outputs": [],
   "source": []
  }
 ],
 "metadata": {
  "kernelspec": {
   "display_name": "Python 3 (ipykernel)",
   "language": "python",
   "name": "python3"
  },
  "language_info": {
   "codemirror_mode": {
    "name": "ipython",
    "version": 3
   },
   "file_extension": ".py",
   "mimetype": "text/x-python",
   "name": "python",
   "nbconvert_exporter": "python",
   "pygments_lexer": "ipython3",
   "version": "3.11.5"
  }
 },
 "nbformat": 4,
 "nbformat_minor": 5
}
