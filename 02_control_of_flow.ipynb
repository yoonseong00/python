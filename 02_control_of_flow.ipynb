{
 "cells": [
  {
   "cell_type": "markdown",
   "id": "efe26b16-5c66-4ce3-b67d-2c1981020770",
   "metadata": {},
   "source": [
    "## 조건문(if문)\n",
    "\n",
    "```python\n",
    "if<조건식>:\n",
    "    if의 조건식이 참인 경우 실행하는 코드\n",
    "else:\n",
    "    if의 조건식이 거짓인 경우 실행하는 코드\n",
    "```\n",
    "\n",
    "\n",
    "1. `if` 문은 반드시 참/거짓을 판단 할 수 있는 `조건식`과 함께 사용한다.\n",
    "2. `조건식`이 참인경우 `:` 이후의 문장을 실행한다.\n",
    "3. `조건식이`이 거짓인경우 `else:` 이후의 문장을 실행한다."
   ]
  },
  {
   "cell_type": "code",
   "execution_count": 3,
   "id": "45eb98ed-e03d-43e9-9fd5-5708ec08347a",
   "metadata": {},
   "outputs": [
    {
     "name": "stdin",
     "output_type": "stream",
     "text": [
      " 12/12\n"
     ]
    },
    {
     "name": "stdout",
     "output_type": "stream",
     "text": [
      "크리스마스가 아닙니다.\n"
     ]
    }
   ],
   "source": [
    "my_string = input()\n",
    "\n",
    "if my_string =='12/25':\n",
    "    print('크리스마스입니다.')\n",
    "else:\n",
    "    print('크리스마스가 아닙니다.')"
   ]
  },
  {
   "cell_type": "code",
   "execution_count": 10,
   "id": "2e777288-a756-498a-b566-2fd021caf313",
   "metadata": {},
   "outputs": [
    {
     "name": "stdin",
     "output_type": "stream",
     "text": [
      "숫자를 입력해주세요 :  123\n"
     ]
    },
    {
     "name": "stdout",
     "output_type": "stream",
     "text": [
      "홀수입니다.\n"
     ]
    }
   ],
   "source": [
    "num = input('숫자를 입력해주세요 : ')\n",
    "\n",
    "num = int(num)\n",
    "\n",
    "if num%2==0:\n",
    "    print('짝수입니다.')\n",
    "else:\n",
    "    print('홀수입니다.')"
   ]
  },
  {
   "cell_type": "code",
   "execution_count": 11,
   "id": "1e73d016-9acc-49a7-b075-d21a920be57d",
   "metadata": {},
   "outputs": [
    {
     "name": "stdin",
     "output_type": "stream",
     "text": [
      "숫자를 입력해주세요 :  123\n"
     ]
    },
    {
     "name": "stdout",
     "output_type": "stream",
     "text": [
      "홀수입니다.\n"
     ]
    }
   ],
   "source": [
    "num = input('숫자를 입력해주세요 : ')\n",
    "\n",
    "num = int(num)\n",
    "\n",
    "if num%2==1:\n",
    "    print('홀수입니다.')\n",
    "else:\n",
    "    print('짝수입니다.')"
   ]
  },
  {
   "cell_type": "code",
   "execution_count": 13,
   "id": "7b395310-49d3-4d19-b689-867de409cd4a",
   "metadata": {},
   "outputs": [
    {
     "name": "stdin",
     "output_type": "stream",
     "text": [
      "숫자를 입력해주세요 :  2\n"
     ]
    },
    {
     "name": "stdout",
     "output_type": "stream",
     "text": [
      "짝수입니다.\n"
     ]
    }
   ],
   "source": [
    "# num을 2로 나눈 나머지는 0,1 두 가지 경우가 있다.\n",
    "#if 조건식에 0, 1은 자동형변환이 일어나 False, True로 변환된다.\n",
    "num = input('숫자를 입력해주세요 : ')\n",
    "\n",
    "num = int(num)\n",
    "\n",
    "if num%2: #num%2==True와 같은 말이다.\n",
    "    print('홀수입니다.')\n",
    "else:\n",
    "    print('짝수입니다.')"
   ]
  },
  {
   "cell_type": "markdown",
   "id": "13064c13-3b07-4d43-9aa0-74a5753aa5fa",
   "metadata": {},
   "source": [
    "### elif\n",
    "\n",
    "```python\n",
    "if<조건식>:\n",
    "    if 조건이 참인 경우 실행\n",
    "elif<조건식>\n",
    "    elif 조건이 참인 경우 실행 \n",
    "...\n",
    "else:\n",
    "    위 조건이 모두 거짓인 경우 실행\n",
    "```"
   ]
  },
  {
   "cell_type": "code",
   "execution_count": 16,
   "id": "7b7c63f6-fe72-4873-bdbb-4f3fae58442a",
   "metadata": {},
   "outputs": [
    {
     "name": "stdin",
     "output_type": "stream",
     "text": [
      " 97\n"
     ]
    },
    {
     "name": "stdout",
     "output_type": "stream",
     "text": [
      "A입니다.\n",
      "good\n"
     ]
    }
   ],
   "source": [
    "score = int(input())\n",
    "\n",
    "# 90점 이상 A\n",
    "# 80점 이상 B\n",
    "# 70졈 이상 C\n",
    "# 나머지 F\n",
    "\n",
    "if score>=90:\n",
    "    print('A입니다.')\n",
    "    if score>=95:\n",
    "        print('good')\n",
    "elif score>=80:\n",
    "    print('B입니다.')\n",
    "elif score>=70:\n",
    "    print('C입니다.')\n",
    "else:\n",
    "    print('F입니다.')"
   ]
  },
  {
   "cell_type": "code",
   "execution_count": null,
   "id": "5942cf2f-a281-4f8b-81e1-7f798209b8bd",
   "metadata": {},
   "outputs": [],
   "source": []
  }
 ],
 "metadata": {
  "kernelspec": {
   "display_name": "Python 3 (ipykernel)",
   "language": "python",
   "name": "python3"
  },
  "language_info": {
   "codemirror_mode": {
    "name": "ipython",
    "version": 3
   },
   "file_extension": ".py",
   "mimetype": "text/x-python",
   "name": "python",
   "nbconvert_exporter": "python",
   "pygments_lexer": "ipython3",
   "version": "3.11.5"
  }
 },
 "nbformat": 4,
 "nbformat_minor": 5
}
