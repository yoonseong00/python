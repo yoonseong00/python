{
 "cells": [
  {
   "cell_type": "markdown",
   "id": "efe26b16-5c66-4ce3-b67d-2c1981020770",
   "metadata": {},
   "source": [
    "## 조건문(if문)\n",
    "\n",
    "```python\n",
    "if<조건식>:\n",
    "    if의 조건식이 참인 경우 실행하는 코드\n",
    "else:\n",
    "    if의 조건식이 거짓인 경우 실행하는 코드\n",
    "```\n",
    "\n",
    "\n",
    "1. `if` 문은 반드시 참/거짓을 판단 할 수 있는 `조건식`과 함께 사용한다.\n",
    "2. `조건식`이 참인경우 `:` 이후의 문장을 실행한다.\n",
    "3. `조건식이`이 거짓인경우 `else:` 이후의 문장을 실행한다."
   ]
  },
  {
   "cell_type": "code",
   "execution_count": 3,
   "id": "45eb98ed-e03d-43e9-9fd5-5708ec08347a",
   "metadata": {},
   "outputs": [
    {
     "name": "stdin",
     "output_type": "stream",
     "text": [
      " 12/12\n"
     ]
    },
    {
     "name": "stdout",
     "output_type": "stream",
     "text": [
      "크리스마스가 아닙니다.\n"
     ]
    }
   ],
   "source": [
    "my_string = input()\n",
    "\n",
    "if my_string =='12/25':\n",
    "    print('크리스마스입니다.')\n",
    "else:\n",
    "    print('크리스마스가 아닙니다.')"
   ]
  },
  {
   "cell_type": "code",
   "execution_count": 10,
   "id": "2e777288-a756-498a-b566-2fd021caf313",
   "metadata": {},
   "outputs": [
    {
     "name": "stdin",
     "output_type": "stream",
     "text": [
      "숫자를 입력해주세요 :  123\n"
     ]
    },
    {
     "name": "stdout",
     "output_type": "stream",
     "text": [
      "홀수입니다.\n"
     ]
    }
   ],
   "source": [
    "num = input('숫자를 입력해주세요 : ')\n",
    "\n",
    "num = int(num)\n",
    "\n",
    "if num%2==0:\n",
    "    print('짝수입니다.')\n",
    "else:\n",
    "    print('홀수입니다.')"
   ]
  },
  {
   "cell_type": "code",
   "execution_count": 11,
   "id": "1e73d016-9acc-49a7-b075-d21a920be57d",
   "metadata": {},
   "outputs": [
    {
     "name": "stdin",
     "output_type": "stream",
     "text": [
      "숫자를 입력해주세요 :  123\n"
     ]
    },
    {
     "name": "stdout",
     "output_type": "stream",
     "text": [
      "홀수입니다.\n"
     ]
    }
   ],
   "source": [
    "num = input('숫자를 입력해주세요 : ')\n",
    "\n",
    "num = int(num)\n",
    "\n",
    "if num%2==1:\n",
    "    print('홀수입니다.')\n",
    "else:\n",
    "    print('짝수입니다.')"
   ]
  },
  {
   "cell_type": "code",
   "execution_count": 13,
   "id": "7b395310-49d3-4d19-b689-867de409cd4a",
   "metadata": {},
   "outputs": [
    {
     "name": "stdin",
     "output_type": "stream",
     "text": [
      "숫자를 입력해주세요 :  2\n"
     ]
    },
    {
     "name": "stdout",
     "output_type": "stream",
     "text": [
      "짝수입니다.\n"
     ]
    }
   ],
   "source": [
    "# num을 2로 나눈 나머지는 0,1 두 가지 경우가 있다.\n",
    "#if 조건식에 0, 1은 자동형변환이 일어나 False, True로 변환된다.\n",
    "num = input('숫자를 입력해주세요 : ')\n",
    "\n",
    "num = int(num)\n",
    "\n",
    "if num%2: #num%2==True와 같은 말이다.\n",
    "    print('홀수입니다.')\n",
    "else:\n",
    "    print('짝수입니다.')"
   ]
  },
  {
   "cell_type": "markdown",
   "id": "13064c13-3b07-4d43-9aa0-74a5753aa5fa",
   "metadata": {},
   "source": [
    "### elif\n",
    "\n",
    "```python\n",
    "if<조건식>:\n",
    "    if 조건이 참인 경우 실행\n",
    "elif<조건식>\n",
    "    elif 조건이 참인 경우 실행 \n",
    "...\n",
    "else:\n",
    "    위 조건이 모두 거짓인 경우 실행\n",
    "```"
   ]
  },
  {
   "cell_type": "code",
   "execution_count": 16,
   "id": "7b7c63f6-fe72-4873-bdbb-4f3fae58442a",
   "metadata": {},
   "outputs": [
    {
     "name": "stdin",
     "output_type": "stream",
     "text": [
      " 97\n"
     ]
    },
    {
     "name": "stdout",
     "output_type": "stream",
     "text": [
      "A입니다.\n",
      "good\n"
     ]
    }
   ],
   "source": [
    "score = int(input())\n",
    "\n",
    "# 90점 이상 A\n",
    "# 80점 이상 B\n",
    "# 70졈 이상 C\n",
    "# 나머지 F\n",
    "\n",
    "if score>=90:\n",
    "    print('A입니다.')\n",
    "    if score>=95:\n",
    "        print('good')\n",
    "elif score>=80:\n",
    "    print('B입니다.')\n",
    "elif score>=70:\n",
    "    print('C입니다.')\n",
    "else:\n",
    "    print('F입니다.')"
   ]
  },
  {
   "cell_type": "markdown",
   "id": "7361cefb-98df-4dfc-bfa9-7daa8592008f",
   "metadata": {},
   "source": [
    "### 조건표현식\n",
    "\n",
    "```python\n",
    "    true_value if <조건식> else false_value\n",
    "```"
   ]
  },
  {
   "cell_type": "code",
   "execution_count": 2,
   "id": "ee09c032-7ec8-48f2-a525-574364fc4799",
   "metadata": {},
   "outputs": [
    {
     "name": "stdout",
     "output_type": "stream",
     "text": [
      "true\n"
     ]
    }
   ],
   "source": [
    "print('true')if -1 <0 else print('false')"
   ]
  },
  {
   "cell_type": "code",
   "execution_count": 3,
   "id": "853496cc-4c78-44e2-af4e-dfdecefb5e0d",
   "metadata": {},
   "outputs": [
    {
     "name": "stdout",
     "output_type": "stream",
     "text": [
      "0\n"
     ]
    }
   ],
   "source": [
    "num = -5\n",
    "\n",
    "if num >= 0:\n",
    "    value = num\n",
    "else:\n",
    "    value = 0\n",
    "\n",
    "print(value)"
   ]
  },
  {
   "cell_type": "code",
   "execution_count": 6,
   "id": "801d79e4-46f6-4c85-832b-0e32aa93e0e2",
   "metadata": {},
   "outputs": [
    {
     "name": "stdout",
     "output_type": "stream",
     "text": [
      "0\n"
     ]
    }
   ],
   "source": [
    "num= -5\n",
    "value = num if num>=0 else 0\n",
    "print(value)"
   ]
  },
  {
   "cell_type": "code",
   "execution_count": 14,
   "id": "d40e5255-ccce-4586-9bc1-801881805da2",
   "metadata": {},
   "outputs": [
    {
     "name": "stdout",
     "output_type": "stream",
     "text": [
      "홀수\n"
     ]
    }
   ],
   "source": [
    "num = 5\n",
    "result = '홀수' if num % 2 == 1 else '짝수'\n",
    "print(result)"
   ]
  },
  {
   "cell_type": "markdown",
   "id": "fb5d3b07-b6ae-4e37-97a4-4a07a696d12c",
   "metadata": {},
   "source": [
    "## 반복문\n",
    "\n",
    "### while문\n",
    "```python\n",
    "while<조건식>:\n",
    "    실행할 코드\n",
    "```"
   ]
  },
  {
   "cell_type": "code",
   "execution_count": 1,
   "id": "b40e5f92-1691-4ee1-9bfe-7d6cc5e369ea",
   "metadata": {},
   "outputs": [
    {
     "name": "stdout",
     "output_type": "stream",
     "text": [
      "0\n",
      "1\n",
      "2\n",
      "3\n",
      "4\n"
     ]
    }
   ],
   "source": [
    "a = 0\n",
    "\n",
    "while a < 5:\n",
    "    print(a)\n",
    "    a += 1"
   ]
  },
  {
   "cell_type": "code",
   "execution_count": 2,
   "id": "1c6f24c2-ac2d-41a6-ac1d-da1f73271446",
   "metadata": {},
   "outputs": [
    {
     "name": "stdin",
     "output_type": "stream",
     "text": [
      "안녕이라고 하세요. : 123\n",
      "안녕이라고 하세요. : 안녕\n"
     ]
    }
   ],
   "source": [
    "greeting = ''\n",
    "\n",
    "while greeting != '안녕':\n",
    "    greeting = input('안녕이라고 하세요. :')"
   ]
  },
  {
   "cell_type": "markdown",
   "id": "13f63646-97f3-4e40-8e22-26d5e24ebb2f",
   "metadata": {},
   "source": [
    "### for\n",
    "정해진 범위 내의 반복\n",
    "\n",
    "```python\n",
    "for variable in sequence:\n",
    "    실행할 코드\n",
    "```"
   ]
  },
  {
   "cell_type": "code",
   "execution_count": 3,
   "id": "24ab5188-cc63-45ce-b430-14cf4e0b8d96",
   "metadata": {},
   "outputs": [
    {
     "name": "stdout",
     "output_type": "stream",
     "text": [
      "1\n",
      "2\n",
      "3\n",
      "4\n",
      "5\n"
     ]
    }
   ],
   "source": [
    "numbers = [1,2,3,4,5]\n",
    "\n",
    "for number in numbers:\n",
    "    print(number)"
   ]
  },
  {
   "cell_type": "code",
   "execution_count": 5,
   "id": "148bef11-cf67-470f-95da-7bb46803b237",
   "metadata": {},
   "outputs": [
    {
     "name": "stdin",
     "output_type": "stream",
     "text": [
      "단어를 입력하세요 : holy moly\n"
     ]
    },
    {
     "name": "stdout",
     "output_type": "stream",
     "text": [
      "h\n",
      "o\n",
      "l\n",
      "y\n",
      " \n",
      "m\n",
      "o\n",
      "l\n",
      "y\n"
     ]
    }
   ],
   "source": [
    "word = input('단어를 입력하세요 :')\n",
    "\n",
    "for char in word:\n",
    "    print(char)"
   ]
  },
  {
   "cell_type": "code",
   "execution_count": 6,
   "id": "ba93a131-bbb7-4b45-8314-87a17ebb4223",
   "metadata": {},
   "outputs": [
    {
     "name": "stdout",
     "output_type": "stream",
     "text": [
      "0\n",
      "1\n",
      "2\n",
      "3\n",
      "4\n"
     ]
    }
   ],
   "source": [
    "for i in range(5):\n",
    "    print(i)"
   ]
  },
  {
   "cell_type": "code",
   "execution_count": 7,
   "id": "80b0c5f7-d0a8-4e64-b0d4-4b0e1ec05e72",
   "metadata": {},
   "outputs": [
    {
     "name": "stdout",
     "output_type": "stream",
     "text": [
      "1\n",
      "2\n",
      "3\n",
      "4\n",
      "5\n"
     ]
    }
   ],
   "source": [
    "for i in (1,2,3,4,5):\n",
    "    print(i)"
   ]
  },
  {
   "cell_type": "code",
   "execution_count": 9,
   "id": "f10f2715-6756-41e9-b5af-c0f705e71b7f",
   "metadata": {},
   "outputs": [
    {
     "name": "stdout",
     "output_type": "stream",
     "text": [
      "1\n",
      "3\n",
      "5\n",
      "7\n",
      "9\n",
      "11\n",
      "13\n",
      "15\n",
      "17\n",
      "19\n",
      "21\n",
      "23\n",
      "25\n",
      "27\n",
      "29\n"
     ]
    }
   ],
   "source": [
    "# 1~30까지 숫자 중 홀수만 출력\n",
    "\n",
    "for i in range(31):\n",
    "    if(i%2 == 1):\n",
    "        print(i)"
   ]
  },
  {
   "cell_type": "code",
   "execution_count": 34,
   "id": "2907d8d5-12a3-400b-860a-9c2461fb222e",
   "metadata": {},
   "outputs": [
    {
     "name": "stdout",
     "output_type": "stream",
     "text": [
      "[1, 3, 5, 7, 9, 11, 13, 15, 17, 19, 21, 23, 25, 27, 29]\n"
     ]
    }
   ],
   "source": [
    "numbers = range(31)\n",
    "\n",
    "result = []\n",
    "\n",
    "for number in numbers:\n",
    "        if number %2 == 1:\n",
    "            result.append(number)\n",
    "print(result)"
   ]
  },
  {
   "cell_type": "code",
   "execution_count": 45,
   "id": "76ac74c6-d226-443f-8669-a86a5f13f3eb",
   "metadata": {},
   "outputs": [
    {
     "name": "stdout",
     "output_type": "stream",
     "text": [
      "라면\n",
      "햄버거\n",
      "치킨\n",
      "돈가스\n",
      "튀김\n"
     ]
    }
   ],
   "source": [
    "menus = ['라면', '햄버거', '치킨', '돈가스', '튀김']\n",
    "\n",
    "for menu in menus:\n",
    "    print(menu)\n"
   ]
  },
  {
   "cell_type": "code",
   "execution_count": 46,
   "id": "a292ca7b-a18b-4252-bab7-a059b34beb2a",
   "metadata": {},
   "outputs": [
    {
     "name": "stdout",
     "output_type": "stream",
     "text": [
      "라면\n",
      "햄버거\n",
      "치킨\n",
      "돈가스\n",
      "튀김\n"
     ]
    }
   ],
   "source": [
    "for i in range(len(menus)):\n",
    "    print(menus[i])"
   ]
  },
  {
   "cell_type": "code",
   "execution_count": 52,
   "id": "e717755f-f775-4670-886c-4b4cc98f7cf0",
   "metadata": {},
   "outputs": [
    {
     "name": "stdout",
     "output_type": "stream",
     "text": [
      "(0, '라면')\n",
      "(1, '햄버거')\n",
      "(2, '치킨')\n",
      "(3, '돈가스')\n",
      "(4, '튀김')\n"
     ]
    }
   ],
   "source": [
    "for item in enumerate(menus): #첫번째 행은 인덱스 번호, 두 번째 행은 배열에 입력된 값\n",
    "    print(item)"
   ]
  },
  {
   "cell_type": "code",
   "execution_count": 53,
   "id": "0b8071d2-3786-444b-adae-bf79217cfafc",
   "metadata": {},
   "outputs": [
    {
     "name": "stdout",
     "output_type": "stream",
     "text": [
      "0 라면\n",
      "1 햄버거\n",
      "2 치킨\n",
      "3 돈가스\n",
      "4 튀김\n"
     ]
    }
   ],
   "source": [
    "for index, menu in enumerate(menus):\n",
    "    print(index, menu)"
   ]
  },
  {
   "cell_type": "markdown",
   "id": "2a46e4a7-3b3e-4e18-b84f-a8a4823097ca",
   "metadata": {},
   "source": [
    "### dictionary 반복\n",
    "\n",
    "1. for key in dict:\n",
    "2. for key in dict.keys():\n",
    "3. for value in dict.values():\n",
    "4. for key, value in dict.items():"
   ]
  },
  {
   "cell_type": "code",
   "execution_count": 59,
   "id": "9918a17b-a89f-48aa-97d0-4ad7288edcca",
   "metadata": {},
   "outputs": [],
   "source": [
    "info = {\n",
    "    'name': 'yoonseong',\n",
    "    'location': 'INCHEON',\n",
    "    'phone': '010-1234-1234'\n",
    "}"
   ]
  },
  {
   "cell_type": "code",
   "execution_count": 60,
   "id": "e71d6141-2ee7-4b87-b240-ca8e6b0ba1d4",
   "metadata": {},
   "outputs": [
    {
     "name": "stdout",
     "output_type": "stream",
     "text": [
      "name\n",
      "yoonseong\n",
      "location\n",
      "INCHEON\n",
      "phone\n",
      "010-1234-1234\n"
     ]
    }
   ],
   "source": [
    "for key in info:\n",
    "    print(key)\n",
    "    print(info[key])"
   ]
  },
  {
   "cell_type": "code",
   "execution_count": 61,
   "id": "7a937e30-2271-4d96-b067-e3a8025dc13d",
   "metadata": {},
   "outputs": [],
   "source": [
    "blood_type = {\n",
    "    'A': 5,\n",
    "    'B': 4,\n",
    "    'O': 2,\n",
    "    'AB': 3,\n",
    "}"
   ]
  },
  {
   "cell_type": "code",
   "execution_count": 63,
   "id": "9e5c8500-e4cf-4fc9-a1e5-967629878015",
   "metadata": {},
   "outputs": [
    {
     "name": "stdout",
     "output_type": "stream",
     "text": [
      "혈액형 목록은 다음과 같습니다.\n",
      "A\n",
      "B\n",
      "O\n",
      "AB\n"
     ]
    }
   ],
   "source": [
    "print('혈액형 목록은 다음과 같습니다.')\n",
    "for key in blood_type:\n",
    "    print(key)"
   ]
  },
  {
   "cell_type": "code",
   "execution_count": 64,
   "id": "83250380-db14-49f2-ad09-bcc6b1ccf79a",
   "metadata": {},
   "outputs": [
    {
     "name": "stdout",
     "output_type": "stream",
     "text": [
      "혈액형 목록은 다음과 같습니다.\n",
      "A\n",
      "B\n",
      "O\n",
      "AB\n"
     ]
    }
   ],
   "source": [
    "print('혈액형 목록은 다음과 같습니다.')\n",
    "for key in blood_type.keys():\n",
    "    print(key)"
   ]
  },
  {
   "cell_type": "code",
   "execution_count": 71,
   "id": "77d32edb-9641-4b99-8191-93257465e052",
   "metadata": {},
   "outputs": [
    {
     "name": "stdout",
     "output_type": "stream",
     "text": [
      "총인원은 14명입니다.\n"
     ]
    }
   ],
   "source": [
    "result = 0\n",
    "\n",
    "for value in blood_type.values():\n",
    "    # print(value)\n",
    "    result = result + value\n",
    "    \n",
    "    \n",
    "print(f'총인원은 {result}명입니다.')"
   ]
  },
  {
   "cell_type": "code",
   "execution_count": 72,
   "id": "72ba9be5-f6aa-4a38-b93a-eb23f17422b3",
   "metadata": {},
   "outputs": [
    {
     "data": {
      "text/plain": [
       "dict_items([('A', 5), ('B', 4), ('O', 2), ('AB', 3)])"
      ]
     },
     "execution_count": 72,
     "metadata": {},
     "output_type": "execute_result"
    }
   ],
   "source": [
    "blood_type.items() #items = key와value가 동시에 포함된 list"
   ]
  },
  {
   "cell_type": "code",
   "execution_count": 74,
   "id": "d28e6bd9-938d-49fd-84f9-239a56a04881",
   "metadata": {},
   "outputs": [
    {
     "name": "stdout",
     "output_type": "stream",
     "text": [
      "A\n",
      "5\n",
      "B\n",
      "4\n",
      "O\n",
      "2\n",
      "AB\n",
      "3\n"
     ]
    }
   ],
   "source": [
    "for item in blood_type.items():\n",
    "    print(item[0])\n",
    "    print(item[1])"
   ]
  },
  {
   "cell_type": "code",
   "execution_count": 75,
   "id": "121c8eec-4e79-4f55-88aa-bdbf9487a024",
   "metadata": {},
   "outputs": [
    {
     "name": "stdout",
     "output_type": "stream",
     "text": [
      "A형은 5명입니다.\n",
      "B형은 4명입니다.\n",
      "O형은 2명입니다.\n",
      "AB형은 3명입니다.\n"
     ]
    }
   ],
   "source": [
    "for key, value in blood_type.items():\n",
    "    print(f'{key}형은 {value}명입니다.')"
   ]
  },
  {
   "cell_type": "markdown",
   "id": "c3173677-2677-474a-b84d-0fa724202704",
   "metadata": {},
   "source": [
    "### Break\n",
    "\n",
    "반복문을 종료시키는 키워드"
   ]
  },
  {
   "cell_type": "code",
   "execution_count": 82,
   "id": "0bd3fe02-4f24-44d7-a160-712de22fd60b",
   "metadata": {},
   "outputs": [
    {
     "name": "stdout",
     "output_type": "stream",
     "text": [
      "0\n",
      "1\n",
      "2\n",
      "3\n",
      "4\n",
      "5\n",
      "6\n",
      "7\n",
      "8\n",
      "9\n",
      "10\n",
      "11\n",
      "10을 넘었습니다.\n"
     ]
    }
   ],
   "source": [
    "for i in range(100):\n",
    "    print(i)\n",
    "    if i > 10:\n",
    "        print('10을 넘었습니다.')\n",
    "        break"
   ]
  },
  {
   "cell_type": "code",
   "execution_count": 87,
   "id": "e3b5aecb-81e5-4332-a7d1-7a83876af70d",
   "metadata": {},
   "outputs": [
    {
     "name": "stdout",
     "output_type": "stream",
     "text": [
      "보리\n",
      "보리\n",
      "보리\n",
      "쌀\n",
      "잡았다!\n"
     ]
    }
   ],
   "source": [
    "rice = ['보리', '보리', '보리', '쌀', '보리', '보리', '보리', '보리']\n",
    "\n",
    "for i in rice:\n",
    "    print(i)\n",
    "    if i == '쌀':\n",
    "        print('잡았다!')\n",
    "        break"
   ]
  },
  {
   "cell_type": "markdown",
   "id": "2406efa3-d677-4302-af80-2e78e0c030cd",
   "metadata": {},
   "source": [
    "#### continue\n",
    "continue 이후의 코드를 실행하지 않고 다음 반복을 실행"
   ]
  },
  {
   "cell_type": "code",
   "execution_count": 90,
   "id": "674133fb-74eb-4f98-a343-a5972e3ca9d8",
   "metadata": {},
   "outputs": [
    {
     "name": "stdout",
     "output_type": "stream",
     "text": [
      "0\n",
      "2\n",
      "4\n",
      "6\n",
      "8\n"
     ]
    }
   ],
   "source": [
    "for i in range(10): #continue를 만나면 하던 일을 멈추고 다시 for문으로 올라가는 명령어\n",
    "    if i % 2:\n",
    "        continue\n",
    "    print(i)"
   ]
  },
  {
   "cell_type": "code",
   "execution_count": 97,
   "id": "900de9e8-1db3-44c9-9baf-55117cef1b80",
   "metadata": {},
   "outputs": [
    {
     "name": "stdout",
     "output_type": "stream",
     "text": [
      "23살은 성인입니다.\n",
      "32살은 성인입니다.\n",
      "31살은 성인입니다.\n"
     ]
    }
   ],
   "source": [
    "age = [10, 12, 23, 32, 31]\n",
    "\n",
    "for a in age:\n",
    "    if a <20:\n",
    "        continue\n",
    "    print(f\"{a}살은 성인입니다.\")"
   ]
  },
  {
   "cell_type": "markdown",
   "id": "61fe764e-9d4d-434a-9d42-ac077ffea5c8",
   "metadata": {},
   "source": [
    "#### else\n",
    "else문은 끝가지 반복이 진행이 된 후 실행한다. (break를 만나지 않은 경우)"
   ]
  },
  {
   "cell_type": "code",
   "execution_count": 100,
   "id": "ae650892-cd92-426e-81a7-b743bd737812",
   "metadata": {},
   "outputs": [
    {
     "name": "stdout",
     "output_type": "stream",
     "text": [
      "0\n",
      "1\n",
      "2\n",
      "3\n",
      "4\n",
      "5\n",
      "6\n",
      "7\n",
      "8\n",
      "9\n",
      "break 못만남\n"
     ]
    }
   ],
   "source": [
    "for i in range(10):\n",
    "    print(i)\n",
    "    if i > 10:\n",
    "        break\n",
    "\n",
    "else:\n",
    "    print('break 못만남')"
   ]
  },
  {
   "cell_type": "code",
   "execution_count": 101,
   "id": "49852809-4444-44bc-9688-7305de634fd6",
   "metadata": {},
   "outputs": [
    {
     "name": "stdout",
     "output_type": "stream",
     "text": [
      "True\n",
      "False\n"
     ]
    }
   ],
   "source": [
    "numbers = [1, 2, 3, 4, 5]\n",
    "print(1 in numbers)\n",
    "print(99 in numbers)"
   ]
  },
  {
   "cell_type": "code",
   "execution_count": 107,
   "id": "37d7274a-23d6-4b35-9ce1-251c1a54f2c0",
   "metadata": {},
   "outputs": [
    {
     "name": "stdout",
     "output_type": "stream",
     "text": [
      "True\n"
     ]
    }
   ],
   "source": [
    "numbers = [1,2, 3, 4, 5]\n",
    "target = 5\n",
    "\n",
    "for num in numbers:\n",
    "    if num == target:\n",
    "        print('True')\n",
    "        break\n",
    "\n",
    "else:\n",
    "    print('False')"
   ]
  },
  {
   "cell_type": "markdown",
   "id": "1de5b874-5cbc-4efe-91bc-3e49f4ce3e74",
   "metadata": {},
   "source": [
    "#### pass"
   ]
  },
  {
   "cell_type": "code",
   "execution_count": 109,
   "id": "6127cc3e-603e-4def-8df2-563391d36fd6",
   "metadata": {},
   "outputs": [],
   "source": [
    "if True:\n",
    "    pass #임시로 패스를 넣어서 구조를 만들어놓고 나중에 구조를 완성시킬 때 사용 (like 주석)"
   ]
  },
  {
   "cell_type": "markdown",
   "id": "eb36f7f2-63ee-4ba6-8db7-32c0357c3895",
   "metadata": {},
   "source": [
    "#### match\n",
    "```python\n",
    "match value:\n",
    "    case 조건:\n",
    "        실행할 조건\n",
    "    case 조건:\n",
    "        실행할 조건\n",
    "```"
   ]
  },
  {
   "cell_type": "code",
   "execution_count": 112,
   "id": "d836527b-597a-43ca-ab3e-c000a809feb4",
   "metadata": {},
   "outputs": [
    {
     "name": "stdout",
     "output_type": "stream",
     "text": [
      "something is wrong\n"
     ]
    }
   ],
   "source": [
    "status = 499\n",
    "\n",
    "match status:\n",
    "    case 400:\n",
    "        print('Bad request')\n",
    "    case 404:\n",
    "        print('not found')\n",
    "    case _:\n",
    "        print('something is wrong')"
   ]
  },
  {
   "cell_type": "code",
   "execution_count": null,
   "id": "83b575e1-3ea0-48b0-8529-00b27b65a705",
   "metadata": {},
   "outputs": [],
   "source": []
  }
 ],
 "metadata": {
  "kernelspec": {
   "display_name": "Python 3 (ipykernel)",
   "language": "python",
   "name": "python3"
  },
  "language_info": {
   "codemirror_mode": {
    "name": "ipython",
    "version": 3
   },
   "file_extension": ".py",
   "mimetype": "text/x-python",
   "name": "python",
   "nbconvert_exporter": "python",
   "pygments_lexer": "ipython3",
   "version": "3.11.5"
  }
 },
 "nbformat": 4,
 "nbformat_minor": 5
}
